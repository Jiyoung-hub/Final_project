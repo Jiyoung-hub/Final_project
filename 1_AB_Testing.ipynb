{
 "cells": [
  {
   "cell_type": "markdown",
   "metadata": {},
   "source": [
    "## Read Data"
   ]
  },
  {
   "cell_type": "code",
   "execution_count": 451,
   "metadata": {},
   "outputs": [],
   "source": [
    "import pandas as pd"
   ]
  },
  {
   "cell_type": "code",
   "execution_count": 452,
   "metadata": {},
   "outputs": [],
   "source": [
    "path1 = r'C:\\Users\\hahas\\Desktop\\Marketing Analytics\\Final Case\\customer_service_reps'\n",
    "path2 = r'C:\\Users\\hahas\\Desktop\\Marketing Analytics\\Final Case\\engagement'\n",
    "path3 = r'C:\\Users\\hahas\\Desktop\\Marketing Analytics\\Final Case\\subscribers'\n",
    "path4 = r'C:\\Users\\hahas\\Desktop\\Marketing Analytics\\Final Case\\advertising_spend_data.xlsx'\n",
    "\n",
    "customer = pd.read_pickle(path1)\n",
    "engagement = pd.read_pickle(path2)\n",
    "subscribers = pd.read_pickle(path3)\n",
    "ads = pd.read_excel(path4, skiprows=2)"
   ]
  },
  {
   "cell_type": "markdown",
   "metadata": {},
   "source": [
    "## Limiting the Scope of Analysis"
   ]
  },
  {
   "cell_type": "code",
   "execution_count": 453,
   "metadata": {},
   "outputs": [
    {
     "name": "stdout",
     "output_type": "stream",
     "text": [
      "Total unique users in subscribers dataset: 227628\n",
      "Users with Null Value: 34904\n",
      "Excluding Nulls, the number of users in our focus: 192724\n"
     ]
    }
   ],
   "source": [
    "# limit data scope to subscribers dataset excluding 'join_fee' Null\n",
    "print(\"Total unique users in subscribers dataset: \"+str(subscribers.subid.nunique())) # Total unique customers in subscribers dataset\n",
    "print(\"Users with Null Value: \"+str(subscribers.join_fee.isnull().sum())) # Null Valus\n",
    "print(\"Excluding Nulls, the number of users in our focus: \"+str(subscribers.join_fee.value_counts().sum())) # Our focus in A/B Testing"
   ]
  },
  {
   "cell_type": "code",
   "execution_count": 454,
   "metadata": {
    "scrolled": true
   },
   "outputs": [
    {
     "data": {
      "text/plain": [
       " 0.0367    109482\n",
       " 0.0000     33482\n",
       " 0.3303     25314\n",
       " 0.6606     12282\n",
       " 0.1101     10648\n",
       " 0.3670      1333\n",
       " 0.1835       146\n",
       "-0.0367         9\n",
       " 0.6973         8\n",
       " 0.6239         6\n",
       "-0.6606         2\n",
       " 0.0734         2\n",
       " 0.2936         2\n",
       " 0.1468         2\n",
       " 0.2569         1\n",
       " 0.5872         1\n",
       " 0.4037         1\n",
       " 0.7340         1\n",
       "-0.3303         1\n",
       "-0.1101         1\n",
       "Name: join_fee, dtype: int64"
      ]
     },
     "execution_count": 454,
     "metadata": {},
     "output_type": "execute_result"
    }
   ],
   "source": [
    "# Check a distribution of 'join fee'\n",
    "subscribers.join_fee.value_counts()"
   ]
  },
  {
   "cell_type": "code",
   "execution_count": 455,
   "metadata": {},
   "outputs": [],
   "source": [
    "# Variant_A: pay | Variant_B: free\n",
    "free = subscribers[subscribers.join_fee <= 0]\n",
    "pay = subscribers[subscribers.join_fee > 0]"
   ]
  },
  {
   "cell_type": "code",
   "execution_count": 456,
   "metadata": {
    "scrolled": false
   },
   "outputs": [
    {
     "name": "stdout",
     "output_type": "stream",
     "text": [
      "The number of users in Variant A is 159229\n",
      "The number of users in Variant B is 33495\n",
      "Total users in AB testing is 192724\n"
     ]
    }
   ],
   "source": [
    "# Users in Variant_A and Variant_B\n",
    "print(\"The number of users in Variant A is \"+str(pay.subid.nunique()))\n",
    "print(\"The number of users in Variant B is \"+str(free.subid.nunique()))\n",
    "print(\"Total users in AB testing is \"+str(free.subid.nunique()+pay.subid.nunique())) # total"
   ]
  },
  {
   "cell_type": "markdown",
   "metadata": {},
   "source": [
    "## Taking a look at Variant_A and Variant_B"
   ]
  },
  {
   "cell_type": "code",
   "execution_count": 457,
   "metadata": {},
   "outputs": [
    {
     "data": {
      "text/plain": [
       "False    97.480221\n",
       "True      2.519779\n",
       "Name: retarget_TF, dtype: float64"
      ]
     },
     "execution_count": 457,
     "metadata": {},
     "output_type": "execute_result"
    }
   ],
   "source": [
    "# Compare Retarget_TF ratio between Variant A and Variant B\n",
    "free.retarget_TF.value_counts() / len(free)*100"
   ]
  },
  {
   "cell_type": "code",
   "execution_count": 458,
   "metadata": {},
   "outputs": [
    {
     "data": {
      "text/plain": [
       "False    96.381312\n",
       "True      3.618688\n",
       "Name: retarget_TF, dtype: float64"
      ]
     },
     "execution_count": 458,
     "metadata": {},
     "output_type": "execute_result"
    }
   ],
   "source": [
    "pay.retarget_TF.value_counts() / len(pay) * 100"
   ]
  },
  {
   "cell_type": "code",
   "execution_count": 459,
   "metadata": {
    "scrolled": true
   },
   "outputs": [
    {
     "data": {
      "text/plain": [
       "False    67.565308\n",
       "True     32.434692\n",
       "Name: paid_TF, dtype: float64"
      ]
     },
     "execution_count": 459,
     "metadata": {},
     "output_type": "execute_result"
    }
   ],
   "source": [
    "# Compare paid_TF ratio between Variant A and Variant B\n",
    "free.paid_TF.value_counts() / len(free)*100"
   ]
  },
  {
   "cell_type": "code",
   "execution_count": 460,
   "metadata": {
    "scrolled": true
   },
   "outputs": [
    {
     "data": {
      "text/plain": [
       "False    70.933687\n",
       "True     29.066313\n",
       "Name: paid_TF, dtype: float64"
      ]
     },
     "execution_count": 460,
     "metadata": {},
     "output_type": "execute_result"
    }
   ],
   "source": [
    "# Compare paid_TF ratio between Variant A and Variant B\n",
    "pay.paid_TF.value_counts() / len(pay) * 100"
   ]
  },
  {
   "cell_type": "code",
   "execution_count": 461,
   "metadata": {},
   "outputs": [
    {
     "data": {
      "text/plain": [
       "iOS        63.242275\n",
       "Android    27.666816\n",
       "Name: op_sys, dtype: float64"
      ]
     },
     "execution_count": 461,
     "metadata": {},
     "output_type": "execute_result"
    }
   ],
   "source": [
    "# Compare operating system ratio\n",
    "free.op_sys.value_counts() / len(free)*100"
   ]
  },
  {
   "cell_type": "code",
   "execution_count": 462,
   "metadata": {},
   "outputs": [
    {
     "data": {
      "text/plain": [
       "iOS        60.078252\n",
       "Android    33.434236\n",
       "Name: op_sys, dtype: float64"
      ]
     },
     "execution_count": 462,
     "metadata": {},
     "output_type": "execute_result"
    }
   ],
   "source": [
    "pay.op_sys.value_counts() / len(pay) * 100"
   ]
  },
  {
   "cell_type": "code",
   "execution_count": 463,
   "metadata": {},
   "outputs": [
    {
     "data": {
      "text/plain": [
       "base_uae_14_day_trial    99.432751\n",
       "low_uae_no_trial          0.498582\n",
       "high_sar_14_day_trial     0.032841\n",
       "base_eur_14_day_trial     0.014928\n",
       "high_uae_14_day_trial     0.005971\n",
       "high_aud_14_day_trial     0.005971\n",
       "low_gbp_14_day_trial      0.002986\n",
       "low_eur_no_trial          0.002986\n",
       "low_sar_no_trial          0.002986\n",
       "Name: plan_type, dtype: float64"
      ]
     },
     "execution_count": 463,
     "metadata": {},
     "output_type": "execute_result"
    }
   ],
   "source": [
    "# Compare plan type ratio\n",
    "free.plan_type.value_counts() / len(free)*100"
   ]
  },
  {
   "cell_type": "code",
   "execution_count": 464,
   "metadata": {},
   "outputs": [
    {
     "data": {
      "text/plain": [
       "base_uae_14_day_trial                99.785215\n",
       "high_uae_14_day_trial                 0.202852\n",
       "base_eur_14_day_trial                 0.008164\n",
       "low_gbp_14_day_trial                  0.001884\n",
       "high_sar_14_day_trial                 0.000628\n",
       "high_jpy_14_day_trial                 0.000628\n",
       "base_uae_no_trial_7_day_guarantee     0.000628\n",
       "Name: plan_type, dtype: float64"
      ]
     },
     "execution_count": 464,
     "metadata": {},
     "output_type": "execute_result"
    }
   ],
   "source": [
    "pay.plan_type.value_counts() / len(pay) * 100"
   ]
  },
  {
   "cell_type": "code",
   "execution_count": 465,
   "metadata": {},
   "outputs": [
    {
     "data": {
      "text/plain": [
       "4.5141    99.432751\n",
       "1.0276     0.498582\n",
       "4.0737     0.032841\n",
       "4.2205     0.014928\n",
       "3.7801     0.005971\n",
       "5.0279     0.005971\n",
       "1.1744     0.002986\n",
       "0.7707     0.002986\n",
       "4.3673     0.002986\n",
       "Name: discount_price, dtype: float64"
      ]
     },
     "execution_count": 465,
     "metadata": {},
     "output_type": "execute_result"
    }
   ],
   "source": [
    "# Compare 'discounted price' distribution\n",
    "free.discount_price.value_counts() / len(free)*100"
   ]
  },
  {
   "cell_type": "code",
   "execution_count": 466,
   "metadata": {},
   "outputs": [
    {
     "data": {
      "text/plain": [
       "4.5141    99.785215\n",
       "5.0279     0.202852\n",
       "4.2205     0.008164\n",
       "4.3673     0.001884\n",
       "4.4407     0.001256\n",
       "4.0737     0.000628\n",
       "Name: discount_price, dtype: float64"
      ]
     },
     "execution_count": 466,
     "metadata": {},
     "output_type": "execute_result"
    }
   ],
   "source": [
    "pay.discount_price.value_counts() / len(pay) * 100"
   ]
  },
  {
   "cell_type": "code",
   "execution_count": 467,
   "metadata": {},
   "outputs": [
    {
     "data": {
      "text/plain": [
       "False    63.104941\n",
       "True     36.895059\n",
       "Name: cancel_before_trial_end, dtype: float64"
      ]
     },
     "execution_count": 467,
     "metadata": {},
     "output_type": "execute_result"
    }
   ],
   "source": [
    "# Compare the ratio of trials cancellation\n",
    "free.cancel_before_trial_end.value_counts() / len(free)*100"
   ]
  },
  {
   "cell_type": "code",
   "execution_count": 468,
   "metadata": {},
   "outputs": [
    {
     "data": {
      "text/plain": [
       "False    64.645259\n",
       "True     35.354741\n",
       "Name: cancel_before_trial_end, dtype: float64"
      ]
     },
     "execution_count": 468,
     "metadata": {},
     "output_type": "execute_result"
    }
   ],
   "source": [
    "pay.cancel_before_trial_end.value_counts() / len(pay) * 100"
   ]
  },
  {
   "cell_type": "code",
   "execution_count": 469,
   "metadata": {},
   "outputs": [
    {
     "data": {
      "text/plain": [
       "Standard Charter    13.464696\n",
       "Paypal               8.917749\n",
       "RAKBANK              6.111360\n",
       "CBD                  2.564562\n",
       "Najim                1.364383\n",
       "Apple Pay            0.011942\n",
       "Name: payment_type, dtype: float64"
      ]
     },
     "execution_count": 469,
     "metadata": {},
     "output_type": "execute_result"
    }
   ],
   "source": [
    "# Comapre payment type \n",
    "free.payment_type.value_counts() / len(free)*100"
   ]
  },
  {
   "cell_type": "code",
   "execution_count": 470,
   "metadata": {},
   "outputs": [
    {
     "data": {
      "text/plain": [
       "Standard Charter    11.285005\n",
       "Paypal               9.464356\n",
       "RAKBANK              5.154212\n",
       "CBD                  2.113937\n",
       "Najim                1.048804\n",
       "Name: payment_type, dtype: float64"
      ]
     },
     "execution_count": 470,
     "metadata": {},
     "output_type": "execute_result"
    }
   ],
   "source": [
    "pay.payment_type.value_counts() / len(pay) * 100"
   ]
  },
  {
   "cell_type": "code",
   "execution_count": 471,
   "metadata": {},
   "outputs": [
    {
     "data": {
      "text/plain": [
       "False    96.832363\n",
       "True      3.167637\n",
       "Name: refund_after_trial_TF, dtype: float64"
      ]
     },
     "execution_count": 471,
     "metadata": {},
     "output_type": "execute_result"
    }
   ],
   "source": [
    "# Comapre 'refund after trial_TF' ratio\n",
    "free.refund_after_trial_TF.value_counts() / len(free)*100"
   ]
  },
  {
   "cell_type": "code",
   "execution_count": 472,
   "metadata": {},
   "outputs": [
    {
     "data": {
      "text/plain": [
       "False    95.884544\n",
       "True      4.115456\n",
       "Name: refund_after_trial_TF, dtype: float64"
      ]
     },
     "execution_count": 472,
     "metadata": {},
     "output_type": "execute_result"
    }
   ],
   "source": [
    "pay.refund_after_trial_TF.value_counts() / len(pay) * 100"
   ]
  },
  {
   "cell_type": "markdown",
   "metadata": {},
   "source": [
    "## AB Testing "
   ]
  },
  {
   "cell_type": "markdown",
   "metadata": {},
   "source": [
    "### Calculating the optimal sample size"
   ]
  },
  {
   "cell_type": "code",
   "execution_count": 473,
   "metadata": {},
   "outputs": [],
   "source": [
    "import pandas as pd\n",
    "from scipy.stats import norm\n",
    "alpha = 0.05\n",
    "power = 0.8"
   ]
  },
  {
   "cell_type": "code",
   "execution_count": 474,
   "metadata": {},
   "outputs": [
    {
     "data": {
      "text/plain": [
       "0.29066313297200885"
      ]
     },
     "execution_count": 474,
     "metadata": {},
     "output_type": "execute_result"
    }
   ],
   "source": [
    "# calculating p0\n",
    "p0 = pay.paid_TF.sum() / pay.shape[0]\n",
    "p0"
   ]
  },
  {
   "cell_type": "code",
   "execution_count": 475,
   "metadata": {
    "scrolled": true
   },
   "outputs": [
    {
     "data": {
      "text/plain": [
       "0.3243469174503657"
      ]
     },
     "execution_count": 475,
     "metadata": {},
     "output_type": "execute_result"
    }
   ],
   "source": [
    "# calculating p1\n",
    "p1 = free.paid_TF.sum() / free.shape[0]\n",
    "p1"
   ]
  },
  {
   "cell_type": "code",
   "execution_count": 476,
   "metadata": {},
   "outputs": [
    {
     "data": {
      "text/plain": [
       "0.03368378447835685"
      ]
     },
     "execution_count": 476,
     "metadata": {},
     "output_type": "execute_result"
    }
   ],
   "source": [
    "# calculating delta\n",
    "delta = (p1-p0)\n",
    "delta"
   ]
  },
  {
   "cell_type": "code",
   "execution_count": 477,
   "metadata": {},
   "outputs": [
    {
     "data": {
      "text/plain": [
       "1.959963984540054"
      ]
     },
     "execution_count": 477,
     "metadata": {},
     "output_type": "execute_result"
    }
   ],
   "source": [
    "# alpha\n",
    "norm.ppf(1-alpha/2)"
   ]
  },
  {
   "cell_type": "code",
   "execution_count": 478,
   "metadata": {},
   "outputs": [
    {
     "data": {
      "text/plain": [
       "-0.8416212335729143"
      ]
     },
     "execution_count": 478,
     "metadata": {},
     "output_type": "execute_result"
    }
   ],
   "source": [
    "# power\n",
    "norm.ppf(1-power)"
   ]
  },
  {
   "cell_type": "code",
   "execution_count": 479,
   "metadata": {},
   "outputs": [],
   "source": [
    "# calculating the optimal sample size\n",
    "from numpy import sqrt\n",
    "alpha = 0.05\n",
    "power = 0.8\n",
    "t_alpha_d2 = norm.ppf(1-alpha/2)\n",
    "t_beta = .84162\n",
    "p0 = pay.paid_TF.sum() / pay.shape[0]\n",
    "p1 = free.paid_TF.sum() / free.shape[0]\n",
    "p_bar = (p0  + p1)/2"
   ]
  },
  {
   "cell_type": "code",
   "execution_count": 480,
   "metadata": {},
   "outputs": [
    {
     "data": {
      "text/plain": [
       "2945.0353514190906"
      ]
     },
     "execution_count": 480,
     "metadata": {},
     "output_type": "execute_result"
    }
   ],
   "source": [
    "# Optimal Sample Size: 2,946\n",
    "((t_alpha_d2*sqrt(2*p_bar*(1-p_bar)))+t_beta*sqrt((p0*(1-p0))+(p1*(1-p1))))**2/delta/delta"
   ]
  },
  {
   "cell_type": "markdown",
   "metadata": {},
   "source": [
    "## Calculating Z-score"
   ]
  },
  {
   "cell_type": "code",
   "execution_count": 481,
   "metadata": {
    "scrolled": true
   },
   "outputs": [
    {
     "data": {
      "text/plain": [
       "13.576556445766908"
      ]
     },
     "execution_count": 481,
     "metadata": {},
     "output_type": "execute_result"
    }
   ],
   "source": [
    "# Z_score: one sample test\n",
    "p_sample = free.paid_TF.sum() / free.shape[0]\n",
    "p = pay.paid_TF.sum() / pay.shape[0]\n",
    "z_score = (p_sample-p) / sqrt(p*(1-p)/free.shape[0])\n",
    "z_score"
   ]
  },
  {
   "cell_type": "code",
   "execution_count": 482,
   "metadata": {},
   "outputs": [
    {
     "data": {
      "text/plain": [
       "12.268806735311307"
      ]
     },
     "execution_count": 482,
     "metadata": {},
     "output_type": "execute_result"
    }
   ],
   "source": [
    "# z_score: two sample test\n",
    "n2 = pay.shape[0]\n",
    "n1 = free.shape[0]\n",
    "p2 = pay.paid_TF.sum() / n2\n",
    "p1 = free.paid_TF.sum() / n1\n",
    "p = (p1 * n1 + p2 * n2) / (n1 + n2)\n",
    "z_score = (p1-p2)/ sqrt(p*(1-p)*(1/n1+1/n2))\n",
    "z_score"
   ]
  },
  {
   "cell_type": "markdown",
   "metadata": {},
   "source": [
    "## Calculating z_score for 10 trials"
   ]
  },
  {
   "cell_type": "code",
   "execution_count": 483,
   "metadata": {},
   "outputs": [],
   "source": [
    "def z_score(data, number):\n",
    "    \n",
    "    p = pay.paid_TF.sum() / pay.shape[0]\n",
    "    variant_B = data\n",
    "    variant_B_sampled = variant_B.sample(n = number)\n",
    "    p_sample = variant_B_sampled.paid_TF.sum() / number\n",
    "    z_score = (p_sample-p) / sqrt(p*(1-p)/number)\n",
    "\n",
    "    return p_sample, z_score"
   ]
  },
  {
   "cell_type": "code",
   "execution_count": 484,
   "metadata": {},
   "outputs": [
    {
     "data": {
      "text/plain": [
       "(0.31602172437202986, 3.0312395299102812)"
      ]
     },
     "execution_count": 484,
     "metadata": {},
     "output_type": "execute_result"
    }
   ],
   "source": [
    "z_score(free, 2946)"
   ]
  },
  {
   "cell_type": "code",
   "execution_count": 485,
   "metadata": {},
   "outputs": [],
   "source": [
    "reject_null = 0\n",
    "accept_null = 0\n",
    "\n",
    "for i in list(range(1,11)):\n",
    "    if z_score(free,2946)[1] >= 1.96:\n",
    "        reject_null += 1\n",
    "    else:\n",
    "        accept_null += 1"
   ]
  },
  {
   "cell_type": "code",
   "execution_count": 486,
   "metadata": {},
   "outputs": [
    {
     "data": {
      "text/plain": [
       "10"
      ]
     },
     "execution_count": 486,
     "metadata": {},
     "output_type": "execute_result"
    }
   ],
   "source": [
    "reject_null"
   ]
  },
  {
   "cell_type": "code",
   "execution_count": 487,
   "metadata": {},
   "outputs": [
    {
     "data": {
      "text/plain": [
       "0"
      ]
     },
     "execution_count": 487,
     "metadata": {},
     "output_type": "execute_result"
    }
   ],
   "source": [
    "accept_null"
   ]
  },
  {
   "cell_type": "markdown",
   "metadata": {},
   "source": [
    "## Sequential Testing"
   ]
  },
  {
   "cell_type": "code",
   "execution_count": 488,
   "metadata": {},
   "outputs": [],
   "source": [
    "import numpy as np"
   ]
  },
  {
   "cell_type": "code",
   "execution_count": 489,
   "metadata": {},
   "outputs": [],
   "source": [
    "# Sequential Testing\n",
    "# From Type I error = 5% and Type II error = 20%, calculate upper and lower bounds\n",
    "# Upper = ln(1/α) = 2.99\n",
    "# Lower = ln(β) = -1.6\n",
    "\n",
    "def squential_test(data,number,p_ho,p_h1):\n",
    "    \n",
    "    variant_B = data\n",
    "    variant_B_sampled = variant_B.sample(n = number)\n",
    "    total_sum=0\n",
    "    i=0\n",
    "\n",
    "    while -1.6 < total_sum <  2.99:     \n",
    "        if variant_B_sampled.paid_TF.iloc[i] == True:\n",
    "            log = np.log(p_h1/p_ho)\n",
    "        elif variant_B_sampled.paid_TF.iloc[i] == False:\n",
    "            log = np.log((1-p_h1)/(1-p_ho))\n",
    "        total_sum = total_sum + log\n",
    "        i = i+1\n",
    "    \n",
    "    return i, total_sum"
   ]
  },
  {
   "cell_type": "code",
   "execution_count": 517,
   "metadata": {
    "scrolled": true
   },
   "outputs": [
    {
     "data": {
      "text/plain": [
       "(357, 3.0523017527991367)"
      ]
     },
     "execution_count": 517,
     "metadata": {},
     "output_type": "execute_result"
    }
   ],
   "source": [
    "p0 = pay.paid_TF.sum() / pay.shape[0]\n",
    "p1 = free.paid_TF.sum() / free.shape[0]\n",
    "squential_test(free, 5000, p_ho=p0, p_h1=p1)"
   ]
  },
  {
   "cell_type": "code",
   "execution_count": 498,
   "metadata": {
    "scrolled": false
   },
   "outputs": [
    {
     "name": "stdout",
     "output_type": "stream",
     "text": [
      "0 0.10964869787766746\n",
      "1 0.2192973957553349\n",
      "2 0.1706466050824403\n",
      "3 0.28029530296010774\n",
      "4 0.3899440008377752\n",
      "5 0.49959269871544265\n",
      "6 0.60924139659311\n",
      "7 0.7188900944707775\n",
      "8 0.8285387923484449\n",
      "9 0.7798880016755503\n",
      "10 0.8895366995532177\n",
      "11 0.8408859088803231\n",
      "12 0.7922351182074285\n",
      "13 0.743584327534534\n",
      "14 0.6949335368616394\n",
      "15 0.8045822347393068\n",
      "16 0.9142309326169742\n",
      "17 0.8655801419440796\n",
      "18 0.816929351271185\n",
      "19 0.9265780491488524\n",
      "20 1.0362267470265198\n",
      "21 0.9875759563536253\n",
      "22 0.9389251656807307\n",
      "23 1.048573863558398\n",
      "24 1.1582225614360655\n",
      "25 1.109571770763171\n",
      "26 1.0609209800902764\n",
      "27 1.1705696779679438\n",
      "28 1.1219188872950492\n",
      "29 1.2315675851727166\n",
      "30 1.182916794499822\n",
      "31 1.2925654923774894\n",
      "32 1.4022141902551568\n",
      "33 1.3535633995822622\n",
      "34 1.4632120974599296\n",
      "35 1.414561306787035\n",
      "36 1.3659105161141405\n",
      "37 1.475559213991808\n",
      "38 1.4269084233189133\n",
      "39 1.5365571211965807\n",
      "40 1.4879063305236861\n",
      "41 1.4392555398507916\n",
      "42 1.390604749177897\n",
      "43 1.5002534470555644\n",
      "44 1.4516026563826698\n",
      "45 1.4029518657097753\n",
      "46 1.3543010750368807\n",
      "47 1.3056502843639861\n",
      "48 1.4152989822416535\n",
      "49 1.524947680119321\n",
      "50 1.4762968894464263\n",
      "51 1.4276460987735318\n",
      "52 1.3789953081006372\n",
      "53 1.3303445174277426\n",
      "54 1.281693726754848\n",
      "55 1.3913424246325155\n",
      "56 1.3426916339596209\n",
      "57 1.4523403318372883\n",
      "58 1.5619890297149557\n",
      "59 1.671637727592623\n",
      "60 1.6229869369197285\n",
      "61 1.574336146246834\n",
      "62 1.5256853555739394\n",
      "63 1.4770345649010448\n",
      "64 1.4283837742281502\n",
      "65 1.5380324721058176\n",
      "66 1.489381681432923\n",
      "67 1.5990303793105904\n",
      "68 1.5503795886376959\n",
      "69 1.5017287979648013\n",
      "70 1.4530780072919067\n",
      "71 1.5627267051695741\n",
      "72 1.5140759144966796\n",
      "73 1.465425123823785\n",
      "74 1.4167743331508904\n",
      "75 1.3681235424779958\n",
      "76 1.3194727518051013\n",
      "77 1.4291214496827687\n",
      "78 1.380470659009874\n",
      "79 1.3318198683369795\n",
      "80 1.441468566214647\n",
      "81 1.5511172640923143\n",
      "82 1.5024664734194197\n",
      "83 1.6121151712970871\n",
      "84 1.5634643806241926\n",
      "85 1.514813589951298\n",
      "86 1.4661627992784034\n",
      "87 1.4175120086055089\n",
      "88 1.5271607064831763\n",
      "89 1.4785099158102817\n",
      "90 1.588158613687949\n",
      "91 1.5395078230150545\n",
      "92 1.649156520892722\n",
      "93 1.7588052187703893\n",
      "94 1.8684539166480567\n",
      "95 1.8198031259751621\n",
      "96 1.7711523353022676\n",
      "97 1.722501544629373\n",
      "98 1.6738507539564784\n",
      "99 1.6251999632835838\n",
      "100 1.5765491726106893\n",
      "101 1.5278983819377947\n",
      "102 1.4792475912649001\n",
      "103 1.5888962891425675\n",
      "104 1.540245498469673\n",
      "105 1.4915947077967784\n",
      "106 1.6012434056744458\n",
      "107 1.7108921035521132\n",
      "108 1.6622413128792186\n",
      "109 1.771890010756886\n",
      "110 1.7232392200839914\n",
      "111 1.6745884294110969\n",
      "112 1.6259376387382023\n",
      "113 1.5772868480653077\n",
      "114 1.5286360573924132\n",
      "115 1.4799852667195186\n",
      "116 1.431334476046624\n",
      "117 1.5409831739242914\n",
      "118 1.4923323832513968\n",
      "119 1.4436815925785023\n",
      "120 1.5533302904561697\n",
      "121 1.662978988333837\n",
      "122 1.6143281976609425\n",
      "123 1.565677406988048\n",
      "124 1.5170266163151533\n",
      "125 1.6266753141928207\n",
      "126 1.7363240120704881\n",
      "127 1.8459727099481555\n",
      "128 1.955621407825823\n",
      "129 1.9069706171529284\n",
      "130 2.0166193150305958\n",
      "131 2.1262680129082634\n",
      "132 2.077617222235369\n",
      "133 2.0289664315624742\n",
      "134 1.9803156408895797\n",
      "135 2.0899643387672473\n",
      "136 2.199613036644915\n",
      "137 2.1509622459720203\n",
      "138 2.1023114552991258\n",
      "139 2.2119601531767934\n",
      "140 2.321608851054461\n",
      "141 2.2729580603815664\n",
      "142 2.224307269708672\n",
      "143 2.1756564790357773\n",
      "144 2.1270056883628827\n",
      "145 2.2366543862405504\n",
      "146 2.346303084118218\n",
      "147 2.2976522934453234\n",
      "148 2.249001502772429\n",
      "149 2.2003507120995343\n",
      "150 2.1516999214266397\n",
      "151 2.103049130753745\n",
      "152 2.0543983400808505\n",
      "153 2.164047037958518\n",
      "154 2.1153962472856236\n",
      "155 2.066745456612729\n",
      "156 2.0180946659398344\n",
      "157 1.9694438752669399\n",
      "158 2.0790925731446075\n",
      "159 2.188741271022275\n",
      "160 2.1400904803493805\n",
      "161 2.249739178227048\n",
      "162 2.2010883875541536\n",
      "163 2.310737085431821\n",
      "164 2.420385783309489\n",
      "165 2.5300344811871565\n",
      "166 2.639683179064824\n",
      "167 2.7493318769424917\n",
      "168 2.700681086269597\n",
      "169 2.6520302955967026\n",
      "170 2.76167899347437\n",
      "171 2.7130282028014756\n",
      "172 2.664377412128581\n",
      "173 2.6157266214556865\n",
      "174 2.725375319333354\n",
      "175 2.6767245286604595\n",
      "176 2.628073737987565\n",
      "177 2.5794229473146704\n",
      "178 2.530772156641776\n",
      "179 2.6404208545194434\n",
      "180 2.750069552397111\n",
      "181 2.7014187617242165\n",
      "182 2.811067459601884\n",
      "183 2.9207161574795517\n",
      "184 3.0303648553572193\n"
     ]
    }
   ],
   "source": [
    "# Showing the process of sequential Test\n",
    "import numpy as np\n",
    "p_ho=p0\n",
    "p_h1=p1\n",
    "i=0\n",
    "total_sum = 0\n",
    "while -1.6 < total_sum < 2.99:\n",
    "    if free.sample(n = 2946).paid_TF.iloc[i] == True:\n",
    "        log = np.log(p_h1/p_ho)\n",
    "    elif free.sample(n = 2946).paid_TF.iloc[i] == False:\n",
    "        log = np.log((1-p_h1)/(1-p_ho))\n",
    "    total_sum = total_sum + log\n",
    "    print(i, total_sum)\n",
    "    i = i+1"
   ]
  }
 ],
 "metadata": {
  "kernelspec": {
   "display_name": "local-venv",
   "language": "python",
   "name": "local-venv"
  },
  "language_info": {
   "codemirror_mode": {
    "name": "ipython",
    "version": 3
   },
   "file_extension": ".py",
   "mimetype": "text/x-python",
   "name": "python",
   "nbconvert_exporter": "python",
   "pygments_lexer": "ipython3",
   "version": "3.7.6"
  }
 },
 "nbformat": 4,
 "nbformat_minor": 4
}
