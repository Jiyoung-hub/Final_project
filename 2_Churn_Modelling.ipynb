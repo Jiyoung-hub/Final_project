{
 "cells": [
  {
   "cell_type": "markdown",
   "metadata": {},
   "source": [
    "## Read data  "
   ]
  },
  {
   "cell_type": "code",
   "execution_count": 1,
   "metadata": {},
   "outputs": [],
   "source": [
    "import pandas as pd\n",
    "import numpy as np"
   ]
  },
  {
   "cell_type": "code",
   "execution_count": 2,
   "metadata": {},
   "outputs": [],
   "source": [
    "path1 = r'C:\\Users\\hahas\\Desktop\\Marketing Analytics\\Final Case\\customer_service_reps'\n",
    "path2 = r'C:\\Users\\hahas\\Desktop\\Marketing Analytics\\Final Case\\engagement'\n",
    "path3 = r'C:\\Users\\hahas\\Desktop\\Marketing Analytics\\Final Case\\subscribers'\n",
    "path4 = r'C:\\Users\\hahas\\Desktop\\Marketing Analytics\\Final Case\\advertising_spend_data.xlsx'\n",
    "\n",
    "customer = pd.read_pickle(path1)\n",
    "engagement = pd.read_pickle(path2)\n",
    "subscribers = pd.read_pickle(path3)\n",
    "ads = pd.read_excel(path4, skiprows=2)"
   ]
  },
  {
   "cell_type": "code",
   "execution_count": 3,
   "metadata": {},
   "outputs": [
    {
     "data": {
      "text/plain": [
       "OTT       1848663\n",
       "itunes     301713\n",
       "google      58267\n",
       "Name: billing_channel, dtype: int64"
      ]
     },
     "execution_count": 3,
     "metadata": {},
     "output_type": "execute_result"
    }
   ],
   "source": [
    "customer.billing_channel.value_counts()"
   ]
  },
  {
   "cell_type": "markdown",
   "metadata": {},
   "source": [
    "## Trial churn prediction model\n",
    "#### Churn: Those who are not converted to paid subscription (the refund is taken into consideration) "
   ]
  },
  {
   "cell_type": "markdown",
   "metadata": {},
   "source": [
    "### Data preprocessing: 'engagement' data"
   ]
  },
  {
   "cell_type": "code",
   "execution_count": 4,
   "metadata": {},
   "outputs": [
    {
     "data": {
      "text/html": [
       "<div>\n",
       "<style scoped>\n",
       "    .dataframe tbody tr th:only-of-type {\n",
       "        vertical-align: middle;\n",
       "    }\n",
       "\n",
       "    .dataframe tbody tr th {\n",
       "        vertical-align: top;\n",
       "    }\n",
       "\n",
       "    .dataframe thead th {\n",
       "        text-align: right;\n",
       "    }\n",
       "</style>\n",
       "<table border=\"1\" class=\"dataframe\">\n",
       "  <thead>\n",
       "    <tr style=\"text-align: right;\">\n",
       "      <th></th>\n",
       "      <th>subid</th>\n",
       "      <th>date</th>\n",
       "      <th>app_opens</th>\n",
       "      <th>cust_service_mssgs</th>\n",
       "      <th>num_videos_completed</th>\n",
       "      <th>num_videos_more_than_30_seconds</th>\n",
       "      <th>num_videos_rated</th>\n",
       "      <th>num_series_started</th>\n",
       "      <th>payment_period</th>\n",
       "    </tr>\n",
       "  </thead>\n",
       "  <tbody>\n",
       "    <tr>\n",
       "      <th>1</th>\n",
       "      <td>22349235</td>\n",
       "      <td>2019-07-01</td>\n",
       "      <td>1.0</td>\n",
       "      <td>1.0</td>\n",
       "      <td>0.0</td>\n",
       "      <td>6.0</td>\n",
       "      <td>0.0</td>\n",
       "      <td>0.0</td>\n",
       "      <td>0.0</td>\n",
       "    </tr>\n",
       "    <tr>\n",
       "      <th>2</th>\n",
       "      <td>22349235</td>\n",
       "      <td>2019-07-02</td>\n",
       "      <td>1.0</td>\n",
       "      <td>0.0</td>\n",
       "      <td>0.0</td>\n",
       "      <td>5.0</td>\n",
       "      <td>0.0</td>\n",
       "      <td>0.0</td>\n",
       "      <td>0.0</td>\n",
       "    </tr>\n",
       "    <tr>\n",
       "      <th>3</th>\n",
       "      <td>22349235</td>\n",
       "      <td>2019-07-03</td>\n",
       "      <td>0.0</td>\n",
       "      <td>1.0</td>\n",
       "      <td>0.0</td>\n",
       "      <td>0.0</td>\n",
       "      <td>0.0</td>\n",
       "      <td>0.0</td>\n",
       "      <td>0.0</td>\n",
       "    </tr>\n",
       "    <tr>\n",
       "      <th>50</th>\n",
       "      <td>20848497</td>\n",
       "      <td>2019-07-02</td>\n",
       "      <td>1.0</td>\n",
       "      <td>0.0</td>\n",
       "      <td>7.0</td>\n",
       "      <td>7.0</td>\n",
       "      <td>0.0</td>\n",
       "      <td>0.0</td>\n",
       "      <td>0.0</td>\n",
       "    </tr>\n",
       "    <tr>\n",
       "      <th>51</th>\n",
       "      <td>22680106</td>\n",
       "      <td>2019-07-02</td>\n",
       "      <td>2.0</td>\n",
       "      <td>1.0</td>\n",
       "      <td>7.0</td>\n",
       "      <td>7.0</td>\n",
       "      <td>0.0</td>\n",
       "      <td>1.0</td>\n",
       "      <td>0.0</td>\n",
       "    </tr>\n",
       "  </tbody>\n",
       "</table>\n",
       "</div>"
      ],
      "text/plain": [
       "       subid       date  app_opens  cust_service_mssgs  num_videos_completed  \\\n",
       "1   22349235 2019-07-01        1.0                 1.0                   0.0   \n",
       "2   22349235 2019-07-02        1.0                 0.0                   0.0   \n",
       "3   22349235 2019-07-03        0.0                 1.0                   0.0   \n",
       "50  20848497 2019-07-02        1.0                 0.0                   7.0   \n",
       "51  22680106 2019-07-02        2.0                 1.0                   7.0   \n",
       "\n",
       "    num_videos_more_than_30_seconds  num_videos_rated  num_series_started  \\\n",
       "1                               6.0               0.0                 0.0   \n",
       "2                               5.0               0.0                 0.0   \n",
       "3                               0.0               0.0                 0.0   \n",
       "50                              7.0               0.0                 0.0   \n",
       "51                              7.0               0.0                 1.0   \n",
       "\n",
       "    payment_period  \n",
       "1              0.0  \n",
       "2              0.0  \n",
       "3              0.0  \n",
       "50             0.0  \n",
       "51             0.0  "
      ]
     },
     "execution_count": 4,
     "metadata": {},
     "output_type": "execute_result"
    }
   ],
   "source": [
    "engagement.head()"
   ]
  },
  {
   "cell_type": "code",
   "execution_count": 5,
   "metadata": {},
   "outputs": [
    {
     "data": {
      "text/plain": [
       "Index(['subid', 'date', 'app_opens', 'cust_service_mssgs',\n",
       "       'num_videos_completed', 'num_videos_more_than_30_seconds',\n",
       "       'num_videos_rated', 'num_series_started', 'payment_period'],\n",
       "      dtype='object')"
      ]
     },
     "execution_count": 5,
     "metadata": {},
     "output_type": "execute_result"
    }
   ],
   "source": [
    "engagement.columns"
   ]
  },
  {
   "cell_type": "code",
   "execution_count": 6,
   "metadata": {},
   "outputs": [
    {
     "data": {
      "text/plain": [
       "135019"
      ]
     },
     "execution_count": 6,
     "metadata": {},
     "output_type": "execute_result"
    }
   ],
   "source": [
    "engagement.subid.nunique()"
   ]
  },
  {
   "cell_type": "code",
   "execution_count": 8,
   "metadata": {},
   "outputs": [],
   "source": [
    "# We only look at engagement activity during trial periods\n",
    "engagement_modelling = engagement[engagement.payment_period==0]"
   ]
  },
  {
   "cell_type": "code",
   "execution_count": 9,
   "metadata": {
    "scrolled": true
   },
   "outputs": [
    {
     "data": {
      "text/plain": [
       "134992"
      ]
     },
     "execution_count": 9,
     "metadata": {},
     "output_type": "execute_result"
    }
   ],
   "source": [
    "# Trials periond ==0, now we have 134,992 users\n",
    "engagement_modelling.subid.nunique()"
   ]
  },
  {
   "cell_type": "code",
   "execution_count": 10,
   "metadata": {},
   "outputs": [],
   "source": [
    "#creating aggregate metrics from transactions\n",
    "df=engagement_modelling.groupby(['subid']).agg(\n",
    "    \n",
    "    sum_app_opens = ('app_opens','sum'),\n",
    "    sum_cust_service_mssgs = ('cust_service_mssgs','sum'),\n",
    "    sum_num_videos_completed = ('num_videos_completed', 'sum'),\n",
    "    sum_num_videos_more_than_30_seconds = ('num_videos_more_than_30_seconds','sum'),\n",
    "    sum_num_videos_rated = ('num_videos_rated','sum'),\n",
    "    sum_num_series_started = ('num_series_started','sum'),\n",
    "    \n",
    "    active_days=('date','nunique'),\n",
    "    max_day=('date','max'),\n",
    "    min_day=('date','min'),\n",
    "\n",
    "    avg_app_opens = ('app_opens','mean'),\n",
    "    avg_cust_service_mssgs = ('cust_service_mssgs','mean'),\n",
    "    avg_num_videos_completed = ('num_videos_completed','mean'),\n",
    "    avg_num_videos_more_than_30_seconds = ('num_videos_more_than_30_seconds','mean'),\n",
    "    avg_num_videos_rated = ('num_videos_rated','mean'),\n",
    "    avg_num_series_started = ('num_series_started','mean')).reset_index()\n",
    "\n",
    "df['duration']=(df.max_day-df.min_day).dt.days+1\n",
    "df['active_per_dur'] = df.active_days/df.duration\n",
    "df['app_opens_per_duration']=df.sum_app_opens/df.active_days\n",
    "df['cust_service_mssgs_per_duration']=df.sum_cust_service_mssgs/df.duration\n",
    "df['num_videos_completed_per_duration']=df.sum_num_videos_completed/df.duration\n",
    "df['num_videos_more_than_30_seconds_per_duration']=df.sum_num_videos_more_than_30_seconds/df.active_days\n",
    "df['num_videos_rated_per_duration']=df.sum_num_videos_rated/df.duration\n",
    "df['num_series_started_per_duration']=df.sum_num_series_started/df.duration\n",
    "\n",
    "engagement_agg=df.copy()"
   ]
  },
  {
   "cell_type": "code",
   "execution_count": 11,
   "metadata": {},
   "outputs": [
    {
     "data": {
      "text/html": [
       "<div>\n",
       "<style scoped>\n",
       "    .dataframe tbody tr th:only-of-type {\n",
       "        vertical-align: middle;\n",
       "    }\n",
       "\n",
       "    .dataframe tbody tr th {\n",
       "        vertical-align: top;\n",
       "    }\n",
       "\n",
       "    .dataframe thead th {\n",
       "        text-align: right;\n",
       "    }\n",
       "</style>\n",
       "<table border=\"1\" class=\"dataframe\">\n",
       "  <thead>\n",
       "    <tr style=\"text-align: right;\">\n",
       "      <th></th>\n",
       "      <th>subid</th>\n",
       "      <th>sum_app_opens</th>\n",
       "      <th>sum_cust_service_mssgs</th>\n",
       "      <th>sum_num_videos_completed</th>\n",
       "      <th>sum_num_videos_more_than_30_seconds</th>\n",
       "      <th>sum_num_videos_rated</th>\n",
       "      <th>sum_num_series_started</th>\n",
       "      <th>active_days</th>\n",
       "      <th>max_day</th>\n",
       "      <th>min_day</th>\n",
       "      <th>...</th>\n",
       "      <th>avg_num_videos_rated</th>\n",
       "      <th>avg_num_series_started</th>\n",
       "      <th>duration</th>\n",
       "      <th>active_per_dur</th>\n",
       "      <th>app_opens_per_duration</th>\n",
       "      <th>cust_service_mssgs_per_duration</th>\n",
       "      <th>num_videos_completed_per_duration</th>\n",
       "      <th>num_videos_more_than_30_seconds_per_duration</th>\n",
       "      <th>num_videos_rated_per_duration</th>\n",
       "      <th>num_series_started_per_duration</th>\n",
       "    </tr>\n",
       "  </thead>\n",
       "  <tbody>\n",
       "    <tr>\n",
       "      <th>0</th>\n",
       "      <td>20000062</td>\n",
       "      <td>4.0</td>\n",
       "      <td>3.0</td>\n",
       "      <td>6.0</td>\n",
       "      <td>23.0</td>\n",
       "      <td>0.0</td>\n",
       "      <td>1.0</td>\n",
       "      <td>4</td>\n",
       "      <td>2019-07-04</td>\n",
       "      <td>2019-06-30</td>\n",
       "      <td>...</td>\n",
       "      <td>0.0</td>\n",
       "      <td>0.250000</td>\n",
       "      <td>5</td>\n",
       "      <td>0.800000</td>\n",
       "      <td>1.000000</td>\n",
       "      <td>0.600000</td>\n",
       "      <td>1.200000</td>\n",
       "      <td>5.750000</td>\n",
       "      <td>0.0</td>\n",
       "      <td>0.200000</td>\n",
       "    </tr>\n",
       "    <tr>\n",
       "      <th>1</th>\n",
       "      <td>20000405</td>\n",
       "      <td>5.0</td>\n",
       "      <td>4.0</td>\n",
       "      <td>13.0</td>\n",
       "      <td>17.0</td>\n",
       "      <td>0.0</td>\n",
       "      <td>1.0</td>\n",
       "      <td>4</td>\n",
       "      <td>2020-03-18</td>\n",
       "      <td>2020-03-08</td>\n",
       "      <td>...</td>\n",
       "      <td>0.0</td>\n",
       "      <td>0.250000</td>\n",
       "      <td>11</td>\n",
       "      <td>0.363636</td>\n",
       "      <td>1.250000</td>\n",
       "      <td>0.363636</td>\n",
       "      <td>1.181818</td>\n",
       "      <td>4.250000</td>\n",
       "      <td>0.0</td>\n",
       "      <td>0.090909</td>\n",
       "    </tr>\n",
       "    <tr>\n",
       "      <th>2</th>\n",
       "      <td>20000604</td>\n",
       "      <td>13.0</td>\n",
       "      <td>4.0</td>\n",
       "      <td>8.0</td>\n",
       "      <td>64.0</td>\n",
       "      <td>0.0</td>\n",
       "      <td>1.0</td>\n",
       "      <td>13</td>\n",
       "      <td>2020-02-23</td>\n",
       "      <td>2020-02-09</td>\n",
       "      <td>...</td>\n",
       "      <td>0.0</td>\n",
       "      <td>0.076923</td>\n",
       "      <td>15</td>\n",
       "      <td>0.866667</td>\n",
       "      <td>1.000000</td>\n",
       "      <td>0.266667</td>\n",
       "      <td>0.533333</td>\n",
       "      <td>4.923077</td>\n",
       "      <td>0.0</td>\n",
       "      <td>0.066667</td>\n",
       "    </tr>\n",
       "    <tr>\n",
       "      <th>3</th>\n",
       "      <td>20000685</td>\n",
       "      <td>17.0</td>\n",
       "      <td>4.0</td>\n",
       "      <td>11.0</td>\n",
       "      <td>63.0</td>\n",
       "      <td>0.0</td>\n",
       "      <td>7.0</td>\n",
       "      <td>13</td>\n",
       "      <td>2020-03-17</td>\n",
       "      <td>2020-03-03</td>\n",
       "      <td>...</td>\n",
       "      <td>0.0</td>\n",
       "      <td>0.538462</td>\n",
       "      <td>15</td>\n",
       "      <td>0.866667</td>\n",
       "      <td>1.307692</td>\n",
       "      <td>0.266667</td>\n",
       "      <td>0.733333</td>\n",
       "      <td>4.846154</td>\n",
       "      <td>0.0</td>\n",
       "      <td>0.466667</td>\n",
       "    </tr>\n",
       "    <tr>\n",
       "      <th>4</th>\n",
       "      <td>20000741</td>\n",
       "      <td>1.0</td>\n",
       "      <td>1.0</td>\n",
       "      <td>2.0</td>\n",
       "      <td>7.0</td>\n",
       "      <td>0.0</td>\n",
       "      <td>0.0</td>\n",
       "      <td>2</td>\n",
       "      <td>2019-08-26</td>\n",
       "      <td>2019-08-25</td>\n",
       "      <td>...</td>\n",
       "      <td>0.0</td>\n",
       "      <td>0.000000</td>\n",
       "      <td>2</td>\n",
       "      <td>1.000000</td>\n",
       "      <td>0.500000</td>\n",
       "      <td>0.500000</td>\n",
       "      <td>1.000000</td>\n",
       "      <td>3.500000</td>\n",
       "      <td>0.0</td>\n",
       "      <td>0.000000</td>\n",
       "    </tr>\n",
       "  </tbody>\n",
       "</table>\n",
       "<p>5 rows × 24 columns</p>\n",
       "</div>"
      ],
      "text/plain": [
       "      subid  sum_app_opens  sum_cust_service_mssgs  sum_num_videos_completed  \\\n",
       "0  20000062            4.0                     3.0                       6.0   \n",
       "1  20000405            5.0                     4.0                      13.0   \n",
       "2  20000604           13.0                     4.0                       8.0   \n",
       "3  20000685           17.0                     4.0                      11.0   \n",
       "4  20000741            1.0                     1.0                       2.0   \n",
       "\n",
       "   sum_num_videos_more_than_30_seconds  sum_num_videos_rated  \\\n",
       "0                                 23.0                   0.0   \n",
       "1                                 17.0                   0.0   \n",
       "2                                 64.0                   0.0   \n",
       "3                                 63.0                   0.0   \n",
       "4                                  7.0                   0.0   \n",
       "\n",
       "   sum_num_series_started  active_days    max_day    min_day  ...  \\\n",
       "0                     1.0            4 2019-07-04 2019-06-30  ...   \n",
       "1                     1.0            4 2020-03-18 2020-03-08  ...   \n",
       "2                     1.0           13 2020-02-23 2020-02-09  ...   \n",
       "3                     7.0           13 2020-03-17 2020-03-03  ...   \n",
       "4                     0.0            2 2019-08-26 2019-08-25  ...   \n",
       "\n",
       "   avg_num_videos_rated  avg_num_series_started  duration  active_per_dur  \\\n",
       "0                   0.0                0.250000         5        0.800000   \n",
       "1                   0.0                0.250000        11        0.363636   \n",
       "2                   0.0                0.076923        15        0.866667   \n",
       "3                   0.0                0.538462        15        0.866667   \n",
       "4                   0.0                0.000000         2        1.000000   \n",
       "\n",
       "   app_opens_per_duration  cust_service_mssgs_per_duration  \\\n",
       "0                1.000000                         0.600000   \n",
       "1                1.250000                         0.363636   \n",
       "2                1.000000                         0.266667   \n",
       "3                1.307692                         0.266667   \n",
       "4                0.500000                         0.500000   \n",
       "\n",
       "   num_videos_completed_per_duration  \\\n",
       "0                           1.200000   \n",
       "1                           1.181818   \n",
       "2                           0.533333   \n",
       "3                           0.733333   \n",
       "4                           1.000000   \n",
       "\n",
       "   num_videos_more_than_30_seconds_per_duration  \\\n",
       "0                                      5.750000   \n",
       "1                                      4.250000   \n",
       "2                                      4.923077   \n",
       "3                                      4.846154   \n",
       "4                                      3.500000   \n",
       "\n",
       "   num_videos_rated_per_duration  num_series_started_per_duration  \n",
       "0                            0.0                         0.200000  \n",
       "1                            0.0                         0.090909  \n",
       "2                            0.0                         0.066667  \n",
       "3                            0.0                         0.466667  \n",
       "4                            0.0                         0.000000  \n",
       "\n",
       "[5 rows x 24 columns]"
      ]
     },
     "execution_count": 11,
     "metadata": {},
     "output_type": "execute_result"
    }
   ],
   "source": [
    "engagement_agg.head()"
   ]
  },
  {
   "cell_type": "code",
   "execution_count": 12,
   "metadata": {},
   "outputs": [
    {
     "data": {
      "text/plain": [
       "Index(['subid', 'sum_app_opens', 'sum_cust_service_mssgs',\n",
       "       'sum_num_videos_completed', 'sum_num_videos_more_than_30_seconds',\n",
       "       'sum_num_videos_rated', 'sum_num_series_started', 'active_days',\n",
       "       'max_day', 'min_day', 'avg_app_opens', 'avg_cust_service_mssgs',\n",
       "       'avg_num_videos_completed', 'avg_num_videos_more_than_30_seconds',\n",
       "       'avg_num_videos_rated', 'avg_num_series_started', 'duration',\n",
       "       'active_per_dur', 'app_opens_per_duration',\n",
       "       'cust_service_mssgs_per_duration', 'num_videos_completed_per_duration',\n",
       "       'num_videos_more_than_30_seconds_per_duration',\n",
       "       'num_videos_rated_per_duration', 'num_series_started_per_duration'],\n",
       "      dtype='object')"
      ]
     },
     "execution_count": 12,
     "metadata": {},
     "output_type": "execute_result"
    }
   ],
   "source": [
    "engagement_agg.columns"
   ]
  },
  {
   "cell_type": "code",
   "execution_count": 13,
   "metadata": {},
   "outputs": [],
   "source": [
    "# Take some important values\n",
    "engagement_test = engagement_agg[['subid','active_days','duration',\n",
    "       'max_day', 'min_day', 'active_per_dur',\n",
    "       'app_opens_per_duration', 'cust_service_mssgs_per_duration',\n",
    "       'num_videos_completed_per_duration',\n",
    "       'num_videos_more_than_30_seconds_per_duration',\n",
    "       'num_videos_rated_per_duration', 'num_series_started_per_duration']]"
   ]
  },
  {
   "cell_type": "code",
   "execution_count": 14,
   "metadata": {
    "scrolled": true
   },
   "outputs": [
    {
     "data": {
      "text/html": [
       "<div>\n",
       "<style scoped>\n",
       "    .dataframe tbody tr th:only-of-type {\n",
       "        vertical-align: middle;\n",
       "    }\n",
       "\n",
       "    .dataframe tbody tr th {\n",
       "        vertical-align: top;\n",
       "    }\n",
       "\n",
       "    .dataframe thead th {\n",
       "        text-align: right;\n",
       "    }\n",
       "</style>\n",
       "<table border=\"1\" class=\"dataframe\">\n",
       "  <thead>\n",
       "    <tr style=\"text-align: right;\">\n",
       "      <th></th>\n",
       "      <th>subid</th>\n",
       "      <th>active_days</th>\n",
       "      <th>duration</th>\n",
       "      <th>max_day</th>\n",
       "      <th>min_day</th>\n",
       "      <th>active_per_dur</th>\n",
       "      <th>app_opens_per_duration</th>\n",
       "      <th>cust_service_mssgs_per_duration</th>\n",
       "      <th>num_videos_completed_per_duration</th>\n",
       "      <th>num_videos_more_than_30_seconds_per_duration</th>\n",
       "      <th>num_videos_rated_per_duration</th>\n",
       "      <th>num_series_started_per_duration</th>\n",
       "    </tr>\n",
       "  </thead>\n",
       "  <tbody>\n",
       "    <tr>\n",
       "      <th>0</th>\n",
       "      <td>20000062</td>\n",
       "      <td>4</td>\n",
       "      <td>5</td>\n",
       "      <td>2019-07-04</td>\n",
       "      <td>2019-06-30</td>\n",
       "      <td>0.800000</td>\n",
       "      <td>1.000000</td>\n",
       "      <td>0.600000</td>\n",
       "      <td>1.200000</td>\n",
       "      <td>5.750000</td>\n",
       "      <td>0.0</td>\n",
       "      <td>0.200000</td>\n",
       "    </tr>\n",
       "    <tr>\n",
       "      <th>1</th>\n",
       "      <td>20000405</td>\n",
       "      <td>4</td>\n",
       "      <td>11</td>\n",
       "      <td>2020-03-18</td>\n",
       "      <td>2020-03-08</td>\n",
       "      <td>0.363636</td>\n",
       "      <td>1.250000</td>\n",
       "      <td>0.363636</td>\n",
       "      <td>1.181818</td>\n",
       "      <td>4.250000</td>\n",
       "      <td>0.0</td>\n",
       "      <td>0.090909</td>\n",
       "    </tr>\n",
       "    <tr>\n",
       "      <th>2</th>\n",
       "      <td>20000604</td>\n",
       "      <td>13</td>\n",
       "      <td>15</td>\n",
       "      <td>2020-02-23</td>\n",
       "      <td>2020-02-09</td>\n",
       "      <td>0.866667</td>\n",
       "      <td>1.000000</td>\n",
       "      <td>0.266667</td>\n",
       "      <td>0.533333</td>\n",
       "      <td>4.923077</td>\n",
       "      <td>0.0</td>\n",
       "      <td>0.066667</td>\n",
       "    </tr>\n",
       "    <tr>\n",
       "      <th>3</th>\n",
       "      <td>20000685</td>\n",
       "      <td>13</td>\n",
       "      <td>15</td>\n",
       "      <td>2020-03-17</td>\n",
       "      <td>2020-03-03</td>\n",
       "      <td>0.866667</td>\n",
       "      <td>1.307692</td>\n",
       "      <td>0.266667</td>\n",
       "      <td>0.733333</td>\n",
       "      <td>4.846154</td>\n",
       "      <td>0.0</td>\n",
       "      <td>0.466667</td>\n",
       "    </tr>\n",
       "    <tr>\n",
       "      <th>4</th>\n",
       "      <td>20000741</td>\n",
       "      <td>2</td>\n",
       "      <td>2</td>\n",
       "      <td>2019-08-26</td>\n",
       "      <td>2019-08-25</td>\n",
       "      <td>1.000000</td>\n",
       "      <td>0.500000</td>\n",
       "      <td>0.500000</td>\n",
       "      <td>1.000000</td>\n",
       "      <td>3.500000</td>\n",
       "      <td>0.0</td>\n",
       "      <td>0.000000</td>\n",
       "    </tr>\n",
       "  </tbody>\n",
       "</table>\n",
       "</div>"
      ],
      "text/plain": [
       "      subid  active_days  duration    max_day    min_day  active_per_dur  \\\n",
       "0  20000062            4         5 2019-07-04 2019-06-30        0.800000   \n",
       "1  20000405            4        11 2020-03-18 2020-03-08        0.363636   \n",
       "2  20000604           13        15 2020-02-23 2020-02-09        0.866667   \n",
       "3  20000685           13        15 2020-03-17 2020-03-03        0.866667   \n",
       "4  20000741            2         2 2019-08-26 2019-08-25        1.000000   \n",
       "\n",
       "   app_opens_per_duration  cust_service_mssgs_per_duration  \\\n",
       "0                1.000000                         0.600000   \n",
       "1                1.250000                         0.363636   \n",
       "2                1.000000                         0.266667   \n",
       "3                1.307692                         0.266667   \n",
       "4                0.500000                         0.500000   \n",
       "\n",
       "   num_videos_completed_per_duration  \\\n",
       "0                           1.200000   \n",
       "1                           1.181818   \n",
       "2                           0.533333   \n",
       "3                           0.733333   \n",
       "4                           1.000000   \n",
       "\n",
       "   num_videos_more_than_30_seconds_per_duration  \\\n",
       "0                                      5.750000   \n",
       "1                                      4.250000   \n",
       "2                                      4.923077   \n",
       "3                                      4.846154   \n",
       "4                                      3.500000   \n",
       "\n",
       "   num_videos_rated_per_duration  num_series_started_per_duration  \n",
       "0                            0.0                         0.200000  \n",
       "1                            0.0                         0.090909  \n",
       "2                            0.0                         0.066667  \n",
       "3                            0.0                         0.466667  \n",
       "4                            0.0                         0.000000  "
      ]
     },
     "execution_count": 14,
     "metadata": {},
     "output_type": "execute_result"
    }
   ],
   "source": [
    "engagement_test.head()"
   ]
  },
  {
   "cell_type": "markdown",
   "metadata": {},
   "source": [
    "### Data preprocessing: 'subscribers' data"
   ]
  },
  {
   "cell_type": "code",
   "execution_count": 15,
   "metadata": {},
   "outputs": [],
   "source": [
    "subscribers_modelling = subscribers[subscribers.subid.isin(engagement.subid)]"
   ]
  },
  {
   "cell_type": "code",
   "execution_count": 16,
   "metadata": {},
   "outputs": [
    {
     "data": {
      "text/plain": [
       "(135019, 29)"
      ]
     },
     "execution_count": 16,
     "metadata": {},
     "output_type": "execute_result"
    }
   ],
   "source": [
    "subscribers_modelling.shape"
   ]
  },
  {
   "cell_type": "code",
   "execution_count": 17,
   "metadata": {},
   "outputs": [],
   "source": [
    "# Drop columns with missing value more than 20%\n",
    "drop_TF = subscribers_modelling.isnull().sum() / len(subscribers_modelling) * 100 < 17"
   ]
  },
  {
   "cell_type": "code",
   "execution_count": 18,
   "metadata": {},
   "outputs": [],
   "source": [
    "subscribers_modelling = subscribers_modelling.loc[:,drop_TF]"
   ]
  },
  {
   "cell_type": "code",
   "execution_count": 19,
   "metadata": {},
   "outputs": [
    {
     "data": {
      "text/plain": [
       "subid                            0.000000\n",
       "intended_use                     1.519786\n",
       "retarget_TF                      0.000000\n",
       "age                             16.818374\n",
       "male_TF                          0.000000\n",
       "country                          0.000000\n",
       "attribution_technical            0.000000\n",
       "attribution_survey               1.179093\n",
       "op_sys                           0.003703\n",
       "months_per_bill_period           0.000000\n",
       "plan_type                        0.000000\n",
       "monthly_price                    0.000000\n",
       "discount_price                   0.000000\n",
       "account_creation_date            0.000000\n",
       "cancel_before_trial_end          0.000000\n",
       "trial_end_date                   0.000000\n",
       "initial_credit_card_declined     0.000000\n",
       "revenue_net                     16.818374\n",
       "join_fee                        16.818374\n",
       "language                         0.000000\n",
       "paid_TF                          0.000000\n",
       "refund_after_trial_TF            0.000000\n",
       "dtype: float64"
      ]
     },
     "execution_count": 19,
     "metadata": {},
     "output_type": "execute_result"
    }
   ],
   "source": [
    "subscribers_modelling.isnull().sum() / len(subscribers_modelling) * 100"
   ]
  },
  {
   "cell_type": "code",
   "execution_count": 20,
   "metadata": {},
   "outputs": [],
   "source": [
    "# Drop unnecessary columns\n",
    "# 'attribution_survey': we only use attribution_technical\n",
    "# 'months_per_bill_period', 'language': only one value\n",
    "# 'monthly_price': we have discounted_price\n",
    "\n",
    "subscribers_modelling = subscribers_modelling.drop(columns=['attribution_survey',\n",
    "                                                            'months_per_bill_period',\n",
    "                                                           'monthly_price','language','age' ])"
   ]
  },
  {
   "cell_type": "code",
   "execution_count": 21,
   "metadata": {},
   "outputs": [],
   "source": [
    "# Missing value imputation - categorical variables\n",
    "columns=['intended_use','op_sys']\n",
    "for c in columns:\n",
    "    notnull = len(subscribers_modelling) - subscribers_modelling[c].isnull().sum()\n",
    "    category_fill= np.random.choice((list(subscribers_modelling[pd.isnull(subscribers_modelling[c])==False][c].unique())),size = subscribers_modelling[c].isnull().sum(),\n",
    "                                      p=list(subscribers_modelling[c].value_counts()/notnull))\n",
    "    subscribers_modelling.loc[subscribers_modelling[c].isnull(),c] = category_fill"
   ]
  },
  {
   "cell_type": "code",
   "execution_count": 22,
   "metadata": {},
   "outputs": [
    {
     "data": {
      "text/plain": [
       "Index(['subid', 'intended_use', 'retarget_TF', 'male_TF', 'country',\n",
       "       'attribution_technical', 'op_sys', 'plan_type', 'discount_price',\n",
       "       'account_creation_date', 'cancel_before_trial_end', 'trial_end_date',\n",
       "       'initial_credit_card_declined', 'revenue_net', 'join_fee', 'paid_TF',\n",
       "       'refund_after_trial_TF'],\n",
       "      dtype='object')"
      ]
     },
     "execution_count": 22,
     "metadata": {},
     "output_type": "execute_result"
    }
   ],
   "source": [
    "subscribers_modelling.columns"
   ]
  },
  {
   "cell_type": "code",
   "execution_count": 23,
   "metadata": {},
   "outputs": [],
   "source": [
    "# Selecting columns from subscribers dataset\n",
    "\n",
    "# 1) do not know until trial ends: time frame does not match - need to drop\n",
    "# 'initial_credit_card_declined' - drop\n",
    "# 'discount_price' - keep for LTV\n",
    "\n",
    "# 2) 'paid_TF', 'refund_after_trial_TF': keep for y variable\n",
    "\n",
    "# 3) 'trial_end_date': keep for data validation\n",
    "\n",
    "subscribers_modelling = subscribers_modelling.drop(columns=['initial_credit_card_declined'])"
   ]
  },
  {
   "cell_type": "markdown",
   "metadata": {},
   "source": [
    "### Data preprocessing: 'customer' data"
   ]
  },
  {
   "cell_type": "code",
   "execution_count": 24,
   "metadata": {},
   "outputs": [],
   "source": [
    "customer_modelling = customer[customer.subid.isin(engagement.subid)]"
   ]
  },
  {
   "cell_type": "code",
   "execution_count": 25,
   "metadata": {},
   "outputs": [],
   "source": [
    "# customer datasets is only used for data validation (won't be used for traning the model)\n",
    "customer_modelling = customer_modelling[['subid','trial_completed_TF','num_trial_days']]"
   ]
  },
  {
   "cell_type": "code",
   "execution_count": 26,
   "metadata": {},
   "outputs": [],
   "source": [
    "# Merge 'customer' data and 'subscribers' data\n",
    "data_for_validation = pd.merge(customer_modelling, subscribers_modelling, on='subid')"
   ]
  },
  {
   "cell_type": "code",
   "execution_count": 27,
   "metadata": {},
   "outputs": [
    {
     "data": {
      "text/plain": [
       "trial_completed_TF  cancel_before_trial_end\n",
       "False               False                       72645\n",
       "True                True                       137214\n",
       "Name: cancel_before_trial_end, dtype: int64"
      ]
     },
     "execution_count": 27,
     "metadata": {},
     "output_type": "execute_result"
    }
   ],
   "source": [
    "# confirmed that 'trial_completed_TF' and 'cancel_before_trial_end' match: Test OK\n",
    "data_for_validation.groupby('trial_completed_TF').cancel_before_trial_end.value_counts()"
   ]
  },
  {
   "cell_type": "code",
   "execution_count": 28,
   "metadata": {},
   "outputs": [
    {
     "data": {
      "text/plain": [
       "trial_completed_TF  num_trial_days\n",
       "False               14                 72645\n",
       "True                14                137131\n",
       "                    0                     83\n",
       "Name: num_trial_days, dtype: int64"
      ]
     },
     "execution_count": 28,
     "metadata": {},
     "output_type": "execute_result"
    }
   ],
   "source": [
    "# Users who completed trial but 0 number of trial days exist: 83 people\n",
    "data_for_validation.groupby('trial_completed_TF').num_trial_days.value_counts()"
   ]
  },
  {
   "cell_type": "markdown",
   "metadata": {},
   "source": [
    "### Merging preprocessed data (subscribers + engagement)"
   ]
  },
  {
   "cell_type": "code",
   "execution_count": 29,
   "metadata": {},
   "outputs": [],
   "source": [
    "data_merged = pd.merge(subscribers_modelling, engagement_test, on='subid')"
   ]
  },
  {
   "cell_type": "code",
   "execution_count": 30,
   "metadata": {},
   "outputs": [
    {
     "data": {
      "text/plain": [
       "Index(['subid', 'intended_use', 'retarget_TF', 'male_TF', 'country',\n",
       "       'attribution_technical', 'op_sys', 'plan_type', 'discount_price',\n",
       "       'account_creation_date', 'cancel_before_trial_end', 'trial_end_date',\n",
       "       'revenue_net', 'join_fee', 'paid_TF', 'refund_after_trial_TF',\n",
       "       'active_days', 'duration', 'max_day', 'min_day', 'active_per_dur',\n",
       "       'app_opens_per_duration', 'cust_service_mssgs_per_duration',\n",
       "       'num_videos_completed_per_duration',\n",
       "       'num_videos_more_than_30_seconds_per_duration',\n",
       "       'num_videos_rated_per_duration', 'num_series_started_per_duration'],\n",
       "      dtype='object')"
      ]
     },
     "execution_count": 30,
     "metadata": {},
     "output_type": "execute_result"
    }
   ],
   "source": [
    "data_merged.columns"
   ]
  },
  {
   "cell_type": "code",
   "execution_count": 31,
   "metadata": {},
   "outputs": [
    {
     "data": {
      "text/html": [
       "<div>\n",
       "<style scoped>\n",
       "    .dataframe tbody tr th:only-of-type {\n",
       "        vertical-align: middle;\n",
       "    }\n",
       "\n",
       "    .dataframe tbody tr th {\n",
       "        vertical-align: top;\n",
       "    }\n",
       "\n",
       "    .dataframe thead th {\n",
       "        text-align: right;\n",
       "    }\n",
       "</style>\n",
       "<table border=\"1\" class=\"dataframe\">\n",
       "  <thead>\n",
       "    <tr style=\"text-align: right;\">\n",
       "      <th></th>\n",
       "      <th>subid</th>\n",
       "      <th>intended_use</th>\n",
       "      <th>retarget_TF</th>\n",
       "      <th>male_TF</th>\n",
       "      <th>country</th>\n",
       "      <th>attribution_technical</th>\n",
       "      <th>op_sys</th>\n",
       "      <th>plan_type</th>\n",
       "      <th>discount_price</th>\n",
       "      <th>account_creation_date</th>\n",
       "      <th>...</th>\n",
       "      <th>duration</th>\n",
       "      <th>max_day</th>\n",
       "      <th>min_day</th>\n",
       "      <th>active_per_dur</th>\n",
       "      <th>app_opens_per_duration</th>\n",
       "      <th>cust_service_mssgs_per_duration</th>\n",
       "      <th>num_videos_completed_per_duration</th>\n",
       "      <th>num_videos_more_than_30_seconds_per_duration</th>\n",
       "      <th>num_videos_rated_per_duration</th>\n",
       "      <th>num_series_started_per_duration</th>\n",
       "    </tr>\n",
       "  </thead>\n",
       "  <tbody>\n",
       "  </tbody>\n",
       "</table>\n",
       "<p>0 rows × 27 columns</p>\n",
       "</div>"
      ],
      "text/plain": [
       "Empty DataFrame\n",
       "Columns: [subid, intended_use, retarget_TF, male_TF, country, attribution_technical, op_sys, plan_type, discount_price, account_creation_date, cancel_before_trial_end, trial_end_date, revenue_net, join_fee, paid_TF, refund_after_trial_TF, active_days, duration, max_day, min_day, active_per_dur, app_opens_per_duration, cust_service_mssgs_per_duration, num_videos_completed_per_duration, num_videos_more_than_30_seconds_per_duration, num_videos_rated_per_duration, num_series_started_per_duration]\n",
       "Index: []\n",
       "\n",
       "[0 rows x 27 columns]"
      ]
     },
     "execution_count": 31,
     "metadata": {},
     "output_type": "execute_result"
    }
   ],
   "source": [
    "# Check if there is any engagement record after trial ended -> no record: Test OK\n",
    "condition = data_merged.max_day > data_merged.trial_end_date\n",
    "data_merged[condition]"
   ]
  },
  {
   "cell_type": "code",
   "execution_count": 32,
   "metadata": {},
   "outputs": [
    {
     "data": {
      "text/plain": [
       "cancel_before_trial_end  paid_TF\n",
       "False                    False      72645\n",
       "True                     True       57456\n",
       "                         False       4891\n",
       "Name: paid_TF, dtype: int64"
      ]
     },
     "execution_count": 32,
     "metadata": {},
     "output_type": "execute_result"
    }
   ],
   "source": [
    "data_merged.groupby('cancel_before_trial_end').paid_TF.value_counts() # TF was flipped here"
   ]
  },
  {
   "cell_type": "code",
   "execution_count": 33,
   "metadata": {},
   "outputs": [
    {
     "data": {
      "text/plain": [
       "False    53148\n",
       "True      4308\n",
       "Name: refund_after_trial_TF, dtype: int64"
      ]
     },
     "execution_count": 33,
     "metadata": {},
     "output_type": "execute_result"
    }
   ],
   "source": [
    "data_merged[data_merged.paid_TF==True].refund_after_trial_TF.value_counts()"
   ]
  },
  {
   "cell_type": "markdown",
   "metadata": {},
   "source": [
    "### identify 'churn' "
   ]
  },
  {
   "cell_type": "code",
   "execution_count": 34,
   "metadata": {},
   "outputs": [
    {
     "name": "stdout",
     "output_type": "stream",
     "text": [
      "Users who have null value: 923\n",
      "Users who have negative net revenue: 3123\n",
      "Users who have positive net revenue: 262\n"
     ]
    }
   ],
   "source": [
    "# Check users who converted to paid subscription and later requested refund\n",
    "condition2 = (data_merged.paid_TF==True) & (data_merged.refund_after_trial_TF==True)\n",
    "data_y_test = data_merged[condition2]\n",
    "print(\"Users who have null value: \" + str(data_y_test.revenue_net.isnull().sum()))\n",
    "print(\"Users who have negative net revenue: \"+ str(data_y_test[data_y_test.revenue_net <= 0].subid.nunique()))\n",
    "print(\"Users who have positive net revenue: \"+str(data_y_test[data_y_test.revenue_net > 0].subid.nunique()))"
   ]
  },
  {
   "cell_type": "code",
   "execution_count": 35,
   "metadata": {},
   "outputs": [
    {
     "name": "stdout",
     "output_type": "stream",
     "text": [
      "Users who have null value: 21785\n",
      "Users who have negative net revenue: 304\n",
      "Users who have positive net revenue: 31059\n"
     ]
    }
   ],
   "source": [
    "# Check users who converted to paid subscription and did not request refund\n",
    "condition3 = (data_merged.paid_TF==True) & (data_merged.refund_after_trial_TF==False)\n",
    "data_y_test2 = data_merged[condition3]\n",
    "print(\"Users who have null value: \" +str(data_y_test2.revenue_net.isnull().sum()))\n",
    "print(\"Users who have negative net revenue: \"+ str(data_y_test2[data_y_test2.revenue_net <= 0].subid.nunique()))\n",
    "print(\"Users who have positive net revenue: \"+str(data_y_test2[data_y_test2.revenue_net > 0].subid.nunique()))"
   ]
  },
  {
   "cell_type": "code",
   "execution_count": 36,
   "metadata": {},
   "outputs": [
    {
     "data": {
      "text/plain": [
       "Index(['subid', 'intended_use', 'retarget_TF', 'male_TF', 'country',\n",
       "       'attribution_technical', 'op_sys', 'plan_type', 'discount_price',\n",
       "       'account_creation_date', 'cancel_before_trial_end', 'trial_end_date',\n",
       "       'revenue_net', 'join_fee', 'paid_TF', 'refund_after_trial_TF',\n",
       "       'active_days', 'duration', 'max_day', 'min_day', 'active_per_dur',\n",
       "       'app_opens_per_duration', 'cust_service_mssgs_per_duration',\n",
       "       'num_videos_completed_per_duration',\n",
       "       'num_videos_more_than_30_seconds_per_duration',\n",
       "       'num_videos_rated_per_duration', 'num_series_started_per_duration'],\n",
       "      dtype='object')"
      ]
     },
     "execution_count": 36,
     "metadata": {},
     "output_type": "execute_result"
    }
   ],
   "source": [
    "data_merged.columns"
   ]
  },
  {
   "cell_type": "code",
   "execution_count": null,
   "metadata": {},
   "outputs": [],
   "source": [
    "# 1) Not churn (53,148 users)\n",
    "# 'paid_TF == True' & 'refund_after_trial_TF==False'\n",
    "\n",
    "# 2) Churn (81,844 users)\n",
    "# 'paid_TF == False': churn (4,891)\n",
    "# 'paid_TF == True' & 'refund_after_trial_TF==True' : churn (4,308)\n",
    "# 'cancel_before_trial_ends== True' : churn (72,645)"
   ]
  },
  {
   "cell_type": "markdown",
   "metadata": {},
   "source": [
    "### Add 'Churn' column: either 0 or 1"
   ]
  },
  {
   "cell_type": "code",
   "execution_count": 37,
   "metadata": {},
   "outputs": [],
   "source": [
    "not_churn = (data_merged.paid_TF == True) & (data_merged.refund_after_trial_TF==False)"
   ]
  },
  {
   "cell_type": "code",
   "execution_count": 38,
   "metadata": {},
   "outputs": [],
   "source": [
    "def define_y(row):\n",
    "    if (row['paid_TF']== True) & (row['refund_after_trial_TF']==False):\n",
    "        return 0\n",
    "    else:\n",
    "        return 1\n",
    "    \n",
    "data_merged['churn'] = data_merged.apply(lambda row: define_y(row), axis=1)"
   ]
  },
  {
   "cell_type": "code",
   "execution_count": 39,
   "metadata": {},
   "outputs": [
    {
     "data": {
      "text/plain": [
       "1    81844\n",
       "0    53148\n",
       "Name: churn, dtype: int64"
      ]
     },
     "execution_count": 39,
     "metadata": {},
     "output_type": "execute_result"
    }
   ],
   "source": [
    "data_merged['churn'].value_counts()"
   ]
  },
  {
   "cell_type": "markdown",
   "metadata": {},
   "source": [
    "### Prepare traning dataset "
   ]
  },
  {
   "cell_type": "code",
   "execution_count": 40,
   "metadata": {},
   "outputs": [],
   "source": [
    "num=['active_per_dur','app_opens_per_duration',\n",
    "       'cust_service_mssgs_per_duration', 'num_videos_completed_per_duration',\n",
    "       'num_videos_more_than_30_seconds_per_duration',\n",
    "       'num_videos_rated_per_duration', 'num_series_started_per_duration']\n",
    "\n",
    "cat=['intended_use','male_TF','attribution_technical', 'op_sys', 'plan_type']\n",
    "\n",
    "X_num = data_merged[num]\n",
    "X_cat = data_merged[cat]\n",
    "\n",
    "# Creating dummy variable dataframe from categorical variables.\n",
    "X_data = X_num.join(pd.get_dummies(X_cat))"
   ]
  },
  {
   "cell_type": "code",
   "execution_count": 41,
   "metadata": {},
   "outputs": [],
   "source": [
    "# train-test data split\n",
    "from sklearn.model_selection import train_test_split\n",
    "X = X_data\n",
    "y = data_merged['churn']\n",
    "X_train, X_test, y_train, y_test = train_test_split(X, y, test_size=.4, random_state = 0)"
   ]
  },
  {
   "cell_type": "code",
   "execution_count": 42,
   "metadata": {},
   "outputs": [],
   "source": [
    "# feature scaling\n",
    "from sklearn.preprocessing import MinMaxScaler\n",
    "scaler = MinMaxScaler()\n",
    "X_train_scale = scaler.fit_transform(X_train[num])\n",
    "X_test_scale = scaler.transform(X_test[num])"
   ]
  },
  {
   "cell_type": "code",
   "execution_count": 43,
   "metadata": {},
   "outputs": [
    {
     "name": "stderr",
     "output_type": "stream",
     "text": [
      "C:\\Users\\hahas\\Anaconda3\\lib\\site-packages\\pandas\\core\\indexing.py:966: SettingWithCopyWarning: \n",
      "A value is trying to be set on a copy of a slice from a DataFrame.\n",
      "Try using .loc[row_indexer,col_indexer] = value instead\n",
      "\n",
      "See the caveats in the documentation: https://pandas.pydata.org/pandas-docs/stable/user_guide/indexing.html#returning-a-view-versus-a-copy\n",
      "  self.obj[item] = s\n"
     ]
    }
   ],
   "source": [
    "# reflects scaled data\n",
    "X_train.loc[:,num]= X_train_scale\n",
    "X_test.loc[:,num] = X_test_scale"
   ]
  },
  {
   "cell_type": "markdown",
   "metadata": {},
   "source": [
    "## Important Features with logistic regression "
   ]
  },
  {
   "cell_type": "code",
   "execution_count": 44,
   "metadata": {},
   "outputs": [
    {
     "name": "stdout",
     "output_type": "stream",
     "text": [
      "Num Features: 10\n",
      "Selected Features: [False  True  True  True  True  True  True False False False False False\n",
      " False False False False False  True False False False False False False\n",
      "  True False False False False False False False False False False False\n",
      " False False False False False False False False False  True False False\n",
      " False False False  True False False False False False False]\n",
      "Feature Ranking: [39  1  1  1  1  1  1 31 49 45 30 29 40 44  5 16 26  1 35 13 32 38 17 42\n",
      "  1 43 14 28  7 27 22 48 10 12 46 33 20 25  3  8 23  4  6 21 24  1  2  9\n",
      " 15 34 11  1 47 18 41 36 37 19]\n"
     ]
    }
   ],
   "source": [
    "# feature selection - logistic\n",
    "from sklearn.feature_selection import RFE\n",
    "from sklearn.linear_model import LogisticRegression\n",
    "\n",
    "model = LogisticRegression(solver='liblinear')\n",
    "rfe = RFE(model, 10)\n",
    "fit = rfe.fit(X_train, y_train)\n",
    "print(\"Num Features: %s\" % (fit.n_features_))\n",
    "print(\"Selected Features: %s\" % (fit.support_))\n",
    "print(\"Feature Ranking: %s\" % (fit.ranking_))"
   ]
  },
  {
   "cell_type": "code",
   "execution_count": 45,
   "metadata": {},
   "outputs": [
    {
     "data": {
      "text/plain": [
       "Index(['app_opens_per_duration', 'cust_service_mssgs_per_duration',\n",
       "       'num_videos_completed_per_duration',\n",
       "       'num_videos_more_than_30_seconds_per_duration',\n",
       "       'num_videos_rated_per_duration', 'num_series_started_per_duration',\n",
       "       'attribution_technical_appstore', 'attribution_technical_direct_mail',\n",
       "       'attribution_technical_tv', 'plan_type_base_eur_14_day_trial'],\n",
       "      dtype='object')"
      ]
     },
     "execution_count": 45,
     "metadata": {},
     "output_type": "execute_result"
    }
   ],
   "source": [
    "X_train.columns[fit.support_]"
   ]
  },
  {
   "cell_type": "code",
   "execution_count": 46,
   "metadata": {},
   "outputs": [],
   "source": [
    "cols=['active_per_dur', 'app_opens_per_duration',\n",
    "       'cust_service_mssgs_per_duration', 'num_videos_completed_per_duration',\n",
    "       'num_videos_more_than_30_seconds_per_duration',\n",
    "       'num_videos_rated_per_duration', 'num_series_started_per_duration',\n",
    "     'attribution_technical_pinterest_organic', 'op_sys_Android',\n",
    "       'op_sys_iOS']"
   ]
  },
  {
   "cell_type": "code",
   "execution_count": 47,
   "metadata": {},
   "outputs": [
    {
     "name": "stdout",
     "output_type": "stream",
     "text": [
      "Optimization terminated successfully.\n",
      "         Current function value: 0.525678\n",
      "         Iterations 8\n",
      "                                         Results: Logit\n",
      "================================================================================================\n",
      "Model:                         Logit                      Pseudo R-squared:           0.216     \n",
      "Dependent Variable:            churn                      AIC:                        85174.5218\n",
      "Date:                          2020-05-16 23:16           BIC:                        85267.5433\n",
      "No. Observations:              80995                      Log-Likelihood:             -42577.   \n",
      "Df Model:                      9                          LL-Null:                    -54298.   \n",
      "Df Residuals:                  80985                      LLR p-value:                0.0000    \n",
      "Converged:                     1.0000                     Scale:                      1.0000    \n",
      "No. Iterations:                8.0000                                                           \n",
      "------------------------------------------------------------------------------------------------\n",
      "                                              Coef.   Std.Err.    z     P>|z|   [0.025   0.975] \n",
      "------------------------------------------------------------------------------------------------\n",
      "active_per_dur                                -0.0141   0.0482  -0.2922 0.7701  -0.1085   0.0804\n",
      "app_opens_per_duration                        -1.8054   0.2709  -6.6642 0.0000  -2.3363  -1.2744\n",
      "cust_service_mssgs_per_duration               21.5359   0.3470  62.0552 0.0000  20.8557  22.2161\n",
      "num_videos_completed_per_duration             -1.8887   0.1196 -15.7968 0.0000  -2.1230  -1.6543\n",
      "num_videos_more_than_30_seconds_per_duration   3.4346   0.1353  25.3819 0.0000   3.1694   3.6998\n",
      "num_videos_rated_per_duration                -34.8360   1.0472 -33.2668 0.0000 -36.8885 -32.7836\n",
      "num_series_started_per_duration               -4.1103   0.0804 -51.1338 0.0000  -4.2679  -3.9528\n",
      "attribution_technical_pinterest_organic       -0.7460   0.7420  -1.0055 0.3147  -2.2003   0.7082\n",
      "op_sys_Android                                 0.1690   0.0529   3.1932 0.0014   0.0653   0.2727\n",
      "op_sys_iOS                                    -0.1190   0.0507  -2.3455 0.0190  -0.2184  -0.0196\n",
      "================================================================================================\n",
      "\n"
     ]
    }
   ],
   "source": [
    "import statsmodels.api as sm\n",
    "logit_model=sm.Logit(y_train,X_train[cols])\n",
    "result=logit_model.fit()\n",
    "print(result.summary2())"
   ]
  },
  {
   "cell_type": "code",
   "execution_count": 50,
   "metadata": {},
   "outputs": [
    {
     "name": "stdout",
     "output_type": "stream",
     "text": [
      "[[12998  8259]\n",
      " [ 5691 27049]]\n",
      "Accuracy: 0.741652\n",
      "Recall: 0.826176\n",
      "Precision: 0.766087\n",
      "F1 Score: 0.794998\n",
      "AUC: 0.798876\n"
     ]
    }
   ],
   "source": [
    "# Build the model\n",
    "from sklearn import metrics\n",
    "from sklearn.metrics import confusion_matrix, classification_report, roc_auc_score, roc_curve, accuracy_score \n",
    "\n",
    "clf = LogisticRegression(solver='liblinear').fit(X_train, y_train)\n",
    "y_pred = clf.predict(X_test)\n",
    "cnf_matrix = metrics.confusion_matrix(y_test, y_pred)\n",
    "fpr, tpr, threshold = metrics.roc_curve(y_test, clf.predict_proba(X_test)[:,1])\n",
    "roc_auc = metrics.auc(fpr, tpr)\n",
    "print(cnf_matrix)\n",
    "print('Accuracy: %f' % metrics.accuracy_score(y_test,y_pred))\n",
    "print('Recall: %f' % (metrics.recall_score(y_test,y_pred)))\n",
    "print('Precision: %f' % (metrics.precision_score(y_test,y_pred)))\n",
    "print('F1 Score: %f' % (metrics.f1_score(y_test,y_pred)))\n",
    "print('AUC: %f' % roc_auc)\n",
    "#print('Coefficient of each feature:', clf.coef_)"
   ]
  },
  {
   "cell_type": "markdown",
   "metadata": {},
   "source": [
    "## Important Features with Random Forest"
   ]
  },
  {
   "cell_type": "code",
   "execution_count": 51,
   "metadata": {},
   "outputs": [],
   "source": [
    "# Build the model\n",
    "from sklearn import metrics\n",
    "from sklearn.metrics import confusion_matrix, classification_report, roc_auc_score, roc_curve, accuracy_score \n",
    "from sklearn.ensemble import RandomForestClassifier\n",
    "\n",
    "RF = RandomForestClassifier(bootstrap= True, class_weight=None, random_state=0)\n",
    "\n",
    "RF.fit(X_train, y_train)\n",
    "pred_RF = RF.predict(X_test)\n",
    "prob_RF = RF.predict_proba(X_test)[:, 1]"
   ]
  },
  {
   "cell_type": "code",
   "execution_count": 52,
   "metadata": {},
   "outputs": [
    {
     "data": {
      "image/png": "[encoded data removed]",
      "text/plain": [
       "<Figure size 432x288 with 1 Axes>"
      ]
     },
     "metadata": {
      "needs_background": "light"
     },
     "output_type": "display_data"
    }
   ],
   "source": [
    "import matplotlib.pyplot as plt\n",
    "feat_importances = pd.Series(RF.feature_importances_, index=X_train.columns)\n",
    "feat_importances.nlargest(30).plot(kind='barh')\n",
    "plt.show()"
   ]
  },
  {
   "cell_type": "code",
   "execution_count": 53,
   "metadata": {},
   "outputs": [
    {
     "name": "stdout",
     "output_type": "stream",
     "text": [
      "[[15949  5308]\n",
      " [ 2925 29815]]\n",
      "              precision    recall  f1-score   support\n",
      "\n",
      "           0       0.85      0.75      0.79     21257\n",
      "           1       0.85      0.91      0.88     32740\n",
      "\n",
      "    accuracy                           0.85     53997\n",
      "   macro avg       0.85      0.83      0.84     53997\n",
      "weighted avg       0.85      0.85      0.85     53997\n",
      "\n",
      "0.8475285664018372\n"
     ]
    }
   ],
   "source": [
    "print(confusion_matrix(y_test,pred_RF))\n",
    "print(classification_report(y_test,pred_RF))\n",
    "print(accuracy_score(y_test, pred_RF))"
   ]
  },
  {
   "cell_type": "markdown",
   "metadata": {},
   "source": [
    "### Selected features from two models - mostly related to engagement activities"
   ]
  },
  {
   "cell_type": "code",
   "execution_count": 114,
   "metadata": {},
   "outputs": [],
   "source": [
    "rf_mask = RF.feature_importances_\n",
    "lr_mask = fit.support_\n",
    "votes = np.sum([lr_mask, rf_mask], axis=0)"
   ]
  },
  {
   "cell_type": "code",
   "execution_count": 55,
   "metadata": {},
   "outputs": [
    {
     "data": {
      "text/plain": [
       "num_videos_more_than_30_seconds_per_duration    1.210662\n",
       "num_series_started_per_duration                 1.173441\n",
       "cust_service_mssgs_per_duration                 1.160872\n",
       "num_videos_completed_per_duration               1.143028\n",
       "app_opens_per_duration                          1.095537\n",
       "num_videos_rated_per_duration                   1.025977\n",
       "attribution_technical_direct_mail               1.000297\n",
       "attribution_technical_appstore                  1.000068\n",
       "plan_type_base_eur_14_day_trial                 1.000055\n",
       "attribution_technical_tv                        1.000017\n",
       "active_per_dur                                  0.063589\n",
       "attribution_technical_facebook                  0.009340\n",
       "intended_use_access to exclusive content        0.009205\n",
       "intended_use_replace OTT                        0.008694\n",
       "intended_use_supplement OTT                     0.006849\n",
       "dtype: float64"
      ]
     },
     "execution_count": 55,
     "metadata": {},
     "output_type": "execute_result"
    }
   ],
   "source": [
    "feat_importances = pd.Series(votes, index=X_train.columns)\n",
    "feat_importances.nlargest(15)"
   ]
  },
  {
   "cell_type": "code",
   "execution_count": 56,
   "metadata": {},
   "outputs": [],
   "source": [
    "selected_features = feat_importances.nlargest(15).index"
   ]
  },
  {
   "cell_type": "code",
   "execution_count": 57,
   "metadata": {},
   "outputs": [
    {
     "data": {
      "text/plain": [
       "Index(['num_videos_more_than_30_seconds_per_duration',\n",
       "       'num_series_started_per_duration', 'cust_service_mssgs_per_duration',\n",
       "       'num_videos_completed_per_duration', 'app_opens_per_duration',\n",
       "       'num_videos_rated_per_duration', 'attribution_technical_direct_mail',\n",
       "       'attribution_technical_appstore', 'plan_type_base_eur_14_day_trial',\n",
       "       'attribution_technical_tv', 'active_per_dur',\n",
       "       'attribution_technical_facebook',\n",
       "       'intended_use_access to exclusive content', 'intended_use_replace OTT',\n",
       "       'intended_use_supplement OTT'],\n",
       "      dtype='object')"
      ]
     },
     "execution_count": 57,
     "metadata": {},
     "output_type": "execute_result"
    }
   ],
   "source": [
    "selected_features"
   ]
  },
  {
   "cell_type": "markdown",
   "metadata": {},
   "source": [
    "## Hyperparameter Tuning with logistic regression"
   ]
  },
  {
   "cell_type": "markdown",
   "metadata": {},
   "source": [
    "### Validation Curve with C (metric: accuracy)"
   ]
  },
  {
   "cell_type": "code",
   "execution_count": 59,
   "metadata": {},
   "outputs": [
    {
     "name": "stderr",
     "output_type": "stream",
     "text": [
      "C:\\Users\\hahas\\Anaconda3\\lib\\site-packages\\sklearn\\utils\\deprecation.py:144: FutureWarning: The sklearn.metrics.classification module is  deprecated in version 0.22 and will be removed in version 0.24. The corresponding classes / functions should instead be imported from sklearn.metrics. Anything that cannot be imported from sklearn.metrics is now part of the private API.\n",
      "  warnings.warn(message, FutureWarning)\n",
      "C:\\Users\\hahas\\Anaconda3\\lib\\site-packages\\sklearn\\base.py:197: FutureWarning: From version 0.24, get_params will raise an AttributeError if a parameter cannot be retrieved as an instance attribute. Previously it would return None.\n",
      "  FutureWarning)\n"
     ]
    },
    {
     "data": {
      "image/png": "[encoded data removed]",
      "text/plain": [
       "<Figure size 576x396 with 1 Axes>"
      ]
     },
     "metadata": {},
     "output_type": "display_data"
    },
    {
     "data": {
      "text/plain": [
       "<matplotlib.axes._subplots.AxesSubplot at 0x21a06dd7588>"
      ]
     },
     "execution_count": 59,
     "metadata": {},
     "output_type": "execute_result"
    }
   ],
   "source": [
    "# Plotting\n",
    "from yellowbrick.model_selection import ValidationCurve\n",
    "param_range = np.arange(0.001,10) \n",
    "\n",
    "viz =ValidationCurve(\n",
    "    LogisticRegression(solver='liblinear'), param_name= 'C', param_range=param_range, cv=5, scoring=\"accuracy\")\n",
    "\n",
    "viz.fit(X_train, y_train)\n",
    "viz.show()"
   ]
  },
  {
   "cell_type": "markdown",
   "metadata": {},
   "source": [
    "### Validation Curve with C (metric: AUC score) "
   ]
  },
  {
   "cell_type": "code",
   "execution_count": 60,
   "metadata": {},
   "outputs": [
    {
     "data": {
      "image/png": "[encoded data removed]",
      "text/plain": [
       "<Figure size 576x396 with 1 Axes>"
      ]
     },
     "metadata": {},
     "output_type": "display_data"
    }
   ],
   "source": [
    "from sklearn.metrics import roc_auc_score, roc_curve, confusion_matrix, classification_report, auc\n",
    "\n",
    "C = [0.1, 0.5, 1, 1.5, 1.75, 2]\n",
    "train_results = []\n",
    "test_results = []\n",
    "for c in C:\n",
    "    model = LogisticRegression(C=c,solver='liblinear',random_state = 0)\n",
    "    model.fit(X_train, y_train)\n",
    "    train_pred = model.predict_proba(X_train)[:,1]\n",
    "    false_positive_rate, true_positive_rate, thresholds = roc_curve(y_train, train_pred)\n",
    "    roc_auc = auc(false_positive_rate, true_positive_rate)\n",
    "    train_results.append(roc_auc)\n",
    "    y_pred = model.predict_proba(X_test)[:,1]\n",
    "    false_positive_rate, true_positive_rate, thresholds = roc_curve(y_test, y_pred)\n",
    "    roc_auc = auc(false_positive_rate, true_positive_rate)\n",
    "    test_results.append(roc_auc)\n",
    "    \n",
    "from matplotlib.legend_handler import HandlerLine2D\n",
    "line1, = plt.plot(C, train_results, \"b\", label=\"Train AUC\")\n",
    "line2, = plt.plot(C, test_results, \"r\", label=\"Test AUC\")\n",
    "plt.legend(handler_map={line1: HandlerLine2D(numpoints=2)})\n",
    "plt.ylabel(\"AUC score\")\n",
    "plt.xlabel(\"C\")\n",
    "plt.show()"
   ]
  },
  {
   "cell_type": "markdown",
   "metadata": {},
   "source": [
    "### Grid Search - logistic regression"
   ]
  },
  {
   "cell_type": "code",
   "execution_count": 115,
   "metadata": {},
   "outputs": [
    {
     "name": "stdout",
     "output_type": "stream",
     "text": [
      "Best: 0.744231 using {'C': 2.0, 'max_iter': 100}\n",
      "Execution time: 0.0020673274993896484 ms\n"
     ]
    }
   ],
   "source": [
    "# from sklearn.model_selection import GridSearchCV\n",
    "import time\n",
    "\n",
    "C = np.linspace(0.8, 2.0, num=10)\n",
    "max_iter = np.arange(100,150,10)\n",
    "param_grid = dict(max_iter = max_iter, C=C)\n",
    "\n",
    "grid = GridSearchCV(estimator = LogisticRegression(solver='liblinear'), param_grid = param_grid, cv=5, n_jobs=-1)\n",
    "grid_result = grid.fit(X_train,y_train)\n",
    "start_time = time.time()\n",
    "\n",
    "# Summarize results\n",
    "print(\"Best: %f using %s\" % (grid_result.best_score_, grid_result.best_params_))\n",
    "print(\"Execution time: \" + str((time.time() - start_time)) + ' ms')"
   ]
  },
  {
   "cell_type": "markdown",
   "metadata": {},
   "source": [
    "## Final Model - logistic regression"
   ]
  },
  {
   "cell_type": "code",
   "execution_count": 116,
   "metadata": {},
   "outputs": [
    {
     "name": "stdout",
     "output_type": "stream",
     "text": [
      "[[12949  8308]\n",
      " [ 5626 27114]]\n",
      "              precision    recall  f1-score   support\n",
      "\n",
      "           0       0.70      0.61      0.65     21257\n",
      "           1       0.77      0.83      0.80     32740\n",
      "\n",
      "    accuracy                           0.74     53997\n",
      "   macro avg       0.73      0.72      0.72     53997\n",
      "weighted avg       0.74      0.74      0.74     53997\n",
      "\n",
      "Test accuracy:0.74\n",
      "Training accuracy: 0.7447002901413667\n"
     ]
    },
    {
     "data": {
      "image/png": "[encoded data removed]",
      "text/plain": [
       "<Figure size 576x396 with 1 Axes>"
      ]
     },
     "metadata": {},
     "output_type": "display_data"
    }
   ],
   "source": [
    "from sklearn.linear_model import LogisticRegression\n",
    "from sklearn.metrics import roc_auc_score,roc_curve, confusion_matrix, classification_report\n",
    "import matplotlib.pyplot as plt\n",
    "\n",
    "#logmodel = LogisticRegression(C= 2.0, max_iter= 100, solver='liblinear')\n",
    "#logmodel.fit(X_train,y_train)\n",
    "pred_log = grid_result.predict(X_test)\n",
    "prob_log = grid_result.predict_proba(X_test)[:,1]\n",
    "\n",
    "print(confusion_matrix(y_test,pred_log))\n",
    "print(classification_report(y_test,pred_log))\n",
    "print('Test accuracy:{:.2f}'.format(logmodel.score(X_test, y_test)))\n",
    "print('Training accuracy:', logmodel.score(X_train, y_train))\n",
    "#print('Coefficient of each feature:', logmodel.coef_)\n",
    "\n",
    "roc_value = roc_auc_score(y_test, prob_log)\n",
    "fpr, tpr, thresholds = roc_curve(y_test,prob_log)\n",
    "plt.figure()\n",
    "plt.plot(fpr, tpr, label='Logistic Regression (area = %0.2f)' % roc_value)\n",
    "plt.plot([0, 1], [0, 1],'r--')\n",
    "plt.xlim([0.0, 1.0])\n",
    "plt.ylim([0.0, 1.0])\n",
    "plt.xlabel('False Positive Rate')\n",
    "plt.ylabel('True Positive Rate')\n",
    "plt.title('Receiver operating characteristic (ROC) Curve')\n",
    "plt.legend(loc=\"lower right\")\n",
    "plt.show()"
   ]
  },
  {
   "cell_type": "markdown",
   "metadata": {},
   "source": [
    "## Build up random forest model"
   ]
  },
  {
   "cell_type": "code",
   "execution_count": 63,
   "metadata": {},
   "outputs": [],
   "source": [
    "pred_RF = RF.predict(X_test)\n",
    "prob_RF = RF.predict_proba(X_test)[:, 1]"
   ]
  },
  {
   "cell_type": "code",
   "execution_count": 64,
   "metadata": {},
   "outputs": [
    {
     "name": "stdout",
     "output_type": "stream",
     "text": [
      "[[15949  5308]\n",
      " [ 2925 29815]]\n",
      "              precision    recall  f1-score   support\n",
      "\n",
      "           0       0.85      0.75      0.79     21257\n",
      "           1       0.85      0.91      0.88     32740\n",
      "\n",
      "    accuracy                           0.85     53997\n",
      "   macro avg       0.85      0.83      0.84     53997\n",
      "weighted avg       0.85      0.85      0.85     53997\n",
      "\n",
      "0.8475285664018372\n"
     ]
    }
   ],
   "source": [
    "print(confusion_matrix(y_test,pred_RF))\n",
    "print(classification_report(y_test,pred_RF))\n",
    "print(accuracy_score(y_test, pred_RF))"
   ]
  },
  {
   "cell_type": "markdown",
   "metadata": {},
   "source": [
    "## Hyperparameter Tuning with Random Forest"
   ]
  },
  {
   "cell_type": "markdown",
   "metadata": {},
   "source": [
    "### Validation Curve with max_depth (metric: AUC) "
   ]
  },
  {
   "cell_type": "code",
   "execution_count": 117,
   "metadata": {},
   "outputs": [
    {
     "data": {
      "image/png": "[encoded data removed]",
      "text/plain": [
       "<Figure size 576x396 with 1 Axes>"
      ]
     },
     "metadata": {},
     "output_type": "display_data"
    }
   ],
   "source": [
    "# max_depth\n",
    "from sklearn.metrics import roc_curve, auc\n",
    "from sklearn.ensemble import RandomForestClassifier\n",
    "\n",
    "max_depth = [5,10,30,50,70]\n",
    "train_results = []\n",
    "test_results = []\n",
    "for max_d in max_depth:\n",
    "   model = RandomForestClassifier(bootstrap=True,max_depth=max_d, random_state=0)\n",
    "   model.fit(X_train, y_train)\n",
    "   train_pred = model.predict_proba(X_train)[:,1]\n",
    "   false_positive_rate, true_positive_rate, thresholds = roc_curve(y_train, train_pred)\n",
    "   roc_auc = auc(false_positive_rate, true_positive_rate)\n",
    "   train_results.append(roc_auc)\n",
    "   y_pred = model.predict_proba(X_test)[:,1]\n",
    "   false_positive_rate, true_positive_rate, thresholds = roc_curve(y_test, y_pred)\n",
    "   roc_auc = auc(false_positive_rate, true_positive_rate)\n",
    "   test_results.append(roc_auc)\n",
    "    \n",
    "from matplotlib.legend_handler import HandlerLine2D\n",
    "line1, = plt.plot(max_depth, train_results, \"b\", label=\"Train AUC\")\n",
    "line2, = plt.plot(max_depth, test_results, \"r\", label=\"Test AUC\")\n",
    "plt.legend(handler_map={line1: HandlerLine2D(numpoints=2)})\n",
    "plt.ylabel(\"AUC score\")\n",
    "plt.xlabel(\"max_depth\")\n",
    "plt.show()"
   ]
  },
  {
   "cell_type": "markdown",
   "metadata": {},
   "source": [
    "### Validation Curve with n_estimators (metric: AUC)"
   ]
  },
  {
   "cell_type": "code",
   "execution_count": 66,
   "metadata": {},
   "outputs": [
    {
     "data": {
      "image/png": "[encoded data removed]",
      "text/plain": [
       "<Figure size 576x396 with 1 Axes>"
      ]
     },
     "metadata": {},
     "output_type": "display_data"
    }
   ],
   "source": [
    "# number of trees\n",
    "from sklearn.metrics import roc_curve, auc\n",
    "from sklearn.ensemble import RandomForestClassifier\n",
    "\n",
    "n_estimators = [10,30,50,70,100,200]\n",
    "train_results = []\n",
    "test_results = []\n",
    "for n_estimator in n_estimators:\n",
    "   model = RandomForestClassifier(bootstrap=True, class_weight=None, criterion='entropy',\n",
    "                                  n_estimators=n_estimator, random_state=0)\n",
    "   model.fit(X_train, y_train)\n",
    "   train_pred = model.predict_proba(X_train)[:,1]\n",
    "   false_positive_rate, true_positive_rate, thresholds = roc_curve(y_train, train_pred)\n",
    "   roc_auc = auc(false_positive_rate, true_positive_rate)\n",
    "   train_results.append(roc_auc)\n",
    "   y_pred = model.predict_proba(X_test)[:,1]\n",
    "   false_positive_rate, true_positive_rate, thresholds = roc_curve(y_test, y_pred)\n",
    "   roc_auc = auc(false_positive_rate, true_positive_rate)\n",
    "   test_results.append(roc_auc)\n",
    "    \n",
    "from matplotlib.legend_handler import HandlerLine2D\n",
    "line1, = plt.plot(n_estimators, train_results, \"b\", label=\"Train AUC\")\n",
    "line2, = plt.plot(n_estimators, test_results, \"r\", label=\"Test AUC\")\n",
    "plt.legend(handler_map={line1: HandlerLine2D(numpoints=2)})\n",
    "plt.ylabel(\"AUC score\")\n",
    "plt.xlabel(\"n_estimators\")\n",
    "plt.show()"
   ]
  },
  {
   "cell_type": "markdown",
   "metadata": {},
   "source": [
    "### Grid search - Random Forest"
   ]
  },
  {
   "cell_type": "code",
   "execution_count": 67,
   "metadata": {},
   "outputs": [],
   "source": [
    "from sklearn.model_selection import GridSearchCV\n",
    "\n",
    "param_grid = {\n",
    "    'max_depth' : list(range(20,31,10)), #10\n",
    "    'max_features' : list(range(5,30,10)), #10\n",
    "}\n",
    "\n",
    "grid = GridSearchCV(RandomForestClassifier(bootstrap = True, n_estimators = 100), param_grid, cv=5)"
   ]
  },
  {
   "cell_type": "code",
   "execution_count": 68,
   "metadata": {},
   "outputs": [
    {
     "name": "stdout",
     "output_type": "stream",
     "text": [
      "[[15949  5308]\n",
      " [ 2925 29815]]\n",
      "              precision    recall  f1-score   support\n",
      "\n",
      "           0       0.85      0.75      0.79     21257\n",
      "           1       0.85      0.91      0.88     32740\n",
      "\n",
      "    accuracy                           0.85     53997\n",
      "   macro avg       0.85      0.83      0.84     53997\n",
      "weighted avg       0.85      0.85      0.85     53997\n",
      "\n",
      "0.8475285664018372\n"
     ]
    },
    {
     "data": {
      "image/png": "[encoded data removed]",
      "text/plain": [
       "<Figure size 576x396 with 1 Axes>"
      ]
     },
     "metadata": {},
     "output_type": "display_data"
    }
   ],
   "source": [
    "from sklearn.metrics import roc_auc_score, roc_curve\n",
    "import matplotlib.pyplot as plt\n",
    "# Build the model\n",
    "y_pred_RF = RF.predict(X_test)\n",
    "y_prob_RF = RF.predict_proba(X_test)[:, 1]\n",
    "print(confusion_matrix(y_test,y_pred_RF))\n",
    "print(classification_report(y_test,y_pred_RF))\n",
    "print(accuracy_score(y_test, y_pred_RF))\n",
    "\n",
    "roc_value = roc_auc_score(y_test,y_prob_RF)\n",
    "fpr, tpr, threshold = roc_curve(y_test,y_prob_RF)\n",
    "plt.figure()\n",
    "plt.plot(fpr, tpr, label='Random Forest (area = %0.2f)' % roc_value)\n",
    "plt.plot([0, 1], [0, 1],'r--')\n",
    "plt.xlim([0.0, 1.0])\n",
    "plt.ylim([0.0, 1.0])\n",
    "plt.xlabel('False Positive Rate')\n",
    "plt.ylabel('True Positive Rate')\n",
    "plt.title('Receiver operating characteristic (ROC) Curve')\n",
    "plt.legend(loc=\"lower right\")\n",
    "plt.show()"
   ]
  },
  {
   "cell_type": "markdown",
   "metadata": {},
   "source": [
    "## Final model - Random Forest"
   ]
  },
  {
   "cell_type": "code",
   "execution_count": 69,
   "metadata": {},
   "outputs": [
    {
     "data": {
      "text/plain": [
       "RandomForestClassifier(bootstrap=True, ccp_alpha=0.0, class_weight=None,\n",
       "                       criterion='gini', max_depth=20, max_features=25,\n",
       "                       max_leaf_nodes=None, max_samples=None,\n",
       "                       min_impurity_decrease=0.0, min_impurity_split=None,\n",
       "                       min_samples_leaf=1, min_samples_split=2,\n",
       "                       min_weight_fraction_leaf=0.0, n_estimators=100,\n",
       "                       n_jobs=None, oob_score=False, random_state=None,\n",
       "                       verbose=0, warm_start=False)"
      ]
     },
     "execution_count": 69,
     "metadata": {},
     "output_type": "execute_result"
    }
   ],
   "source": [
    "best_RF = grid.fit(X_train, y_train)\n",
    "best_RF.best_params_\n",
    "best_RF.best_estimator_"
   ]
  },
  {
   "cell_type": "code",
   "execution_count": 70,
   "metadata": {},
   "outputs": [
    {
     "name": "stdout",
     "output_type": "stream",
     "text": [
      "[[16591  4666]\n",
      " [ 2934 29806]]\n",
      "              precision    recall  f1-score   support\n",
      "\n",
      "           0       0.85      0.78      0.81     21257\n",
      "           1       0.86      0.91      0.89     32740\n",
      "\n",
      "    accuracy                           0.86     53997\n",
      "   macro avg       0.86      0.85      0.85     53997\n",
      "weighted avg       0.86      0.86      0.86     53997\n",
      "\n",
      "0.859251439894809\n"
     ]
    },
    {
     "data": {
      "image/png": "[encoded data removed]",
      "text/plain": [
       "<Figure size 576x396 with 1 Axes>"
      ]
     },
     "metadata": {},
     "output_type": "display_data"
    }
   ],
   "source": [
    "from sklearn.metrics import roc_auc_score, roc_curve\n",
    "import matplotlib.pyplot as plt\n",
    "# Build the model\n",
    "y_pred_RF = best_RF.predict(X_test)\n",
    "y_prob_RF = best_RF.predict_proba(X_test)[:, 1]\n",
    "print(confusion_matrix(y_test,y_pred_RF))\n",
    "print(classification_report(y_test,y_pred_RF))\n",
    "print(accuracy_score(y_test, y_pred_RF))\n",
    "\n",
    "roc_value = roc_auc_score(y_test,y_prob_RF)\n",
    "fpr, tpr, threshold = roc_curve(y_test,y_prob_RF)\n",
    "plt.figure()\n",
    "plt.plot(fpr, tpr, label='Random Forest (area = %0.2f)' % roc_value)\n",
    "plt.plot([0, 1], [0, 1],'r--')\n",
    "plt.xlim([0.0, 1.0])\n",
    "plt.ylim([0.0, 1.0])\n",
    "plt.xlabel('False Positive Rate')\n",
    "plt.ylabel('True Positive Rate')\n",
    "plt.title('Receiver operating characteristic (ROC) Curve')\n",
    "plt.legend(loc=\"lower right\")\n",
    "plt.show()"
   ]
  },
  {
   "cell_type": "markdown",
   "metadata": {},
   "source": [
    "## Applications of Churn modelling"
   ]
  },
  {
   "cell_type": "markdown",
   "metadata": {},
   "source": [
    "### Takeaway1. Revenue modelling - senario planning on giving discount offer to possible churners "
   ]
  },
  {
   "cell_type": "code",
   "execution_count": 71,
   "metadata": {},
   "outputs": [],
   "source": [
    "# Getting predictions on test_dataset\n",
    "pred_mkt = pd.DataFrame()\n",
    "pred_mkt['churn'] = y_test\n",
    "pred_mkt['prob']=y_prob_RF"
   ]
  },
  {
   "cell_type": "code",
   "execution_count": 87,
   "metadata": {},
   "outputs": [],
   "source": [
    "pred_mkt.to_csv('pred_mkt.csv',index=False)"
   ]
  },
  {
   "cell_type": "markdown",
   "metadata": {},
   "source": [
    "### Takeaway2. A distribution of expected CLV"
   ]
  },
  {
   "cell_type": "code",
   "execution_count": 73,
   "metadata": {},
   "outputs": [],
   "source": [
    "# Read pre-calculated CAC Table \n",
    "CAC_by_tier_by_channel = pd.read_csv('CAC_by_tier_by_channel.csv')"
   ]
  },
  {
   "cell_type": "code",
   "execution_count": 75,
   "metadata": {},
   "outputs": [],
   "source": [
    "# Drop mean\n",
    "CAC_by_tier_by_channel = CAC_by_tier_by_channel[:-1]"
   ]
  },
  {
   "cell_type": "code",
   "execution_count": 76,
   "metadata": {},
   "outputs": [],
   "source": [
    "# Create 'tier' column per customer\n",
    "\n",
    "# from datetime import datetime, timedelta\n",
    "def assign_tier(row):\n",
    "    if row.account_creation_date <= pd.Timestamp(2019,7,30):\n",
    "        return 0\n",
    "    if (row.account_creation_date > pd.Timestamp(2019,7,30)) & (row.account_creation_date <= pd.Timestamp(2019,8,30)):\n",
    "        return 1\n",
    "    if (row.account_creation_date > pd.Timestamp(2019,8,30)) & (row.account_creation_date <= pd.Timestamp(2019,9,30)):\n",
    "        return 2\n",
    "    if (row.account_creation_date > pd.Timestamp(2019,9,30)) & (row.account_creation_date <= pd.Timestamp(2019,10,30)):\n",
    "        return 3\n",
    "    if (row.account_creation_date > pd.Timestamp(2019,10,30)) & (row.account_creation_date <= pd.Timestamp(2019,11,30)):\n",
    "        return 4\n",
    "    if (row.account_creation_date > pd.Timestamp(2019,11,30)) & (row.account_creation_date <= pd.Timestamp(2019,12,30)):\n",
    "        return 5\n",
    "    if (row.account_creation_date > pd.Timestamp(2019,12,30)) & (row.account_creation_date <= pd.Timestamp(2020,1,30)):\n",
    "        return 6\n",
    "    if (row.account_creation_date > pd.Timestamp(2020,1,30)) & (row.account_creation_date <= pd.Timestamp(2020,2,29)):\n",
    "        return 7\n",
    "    if (row.account_creation_date > pd.Timestamp(2020,2,29)) & (row.account_creation_date <= pd.Timestamp(2020,3,30)):\n",
    "        return 8"
   ]
  },
  {
   "cell_type": "code",
   "execution_count": 77,
   "metadata": {},
   "outputs": [],
   "source": [
    "data_merged['tier'] = data_merged.apply(lambda row: assign_tier(row), axis=1)"
   ]
  },
  {
   "cell_type": "code",
   "execution_count": 78,
   "metadata": {},
   "outputs": [
    {
     "data": {
      "text/plain": [
       "0    22538\n",
       "8    20229\n",
       "4    18313\n",
       "7    16751\n",
       "5    13149\n",
       "2    12592\n",
       "1    11270\n",
       "3    10276\n",
       "6     9874\n",
       "Name: tier, dtype: int64"
      ]
     },
     "execution_count": 78,
     "metadata": {},
     "output_type": "execute_result"
    }
   ],
   "source": [
    "data_merged.tier.value_counts()"
   ]
  },
  {
   "cell_type": "markdown",
   "metadata": {},
   "source": [
    "###  Assign CAC to individuals"
   ]
  },
  {
   "cell_type": "code",
   "execution_count": null,
   "metadata": {},
   "outputs": [],
   "source": [
    "# Assign 'unknown channels' to 'known channels'\n",
    "\n",
    "# 1) youtube, podcast, twitter -> facebook\n",
    "# 2) display, influencer, samsung, criteo-> affiliate\n",
    "# 3) brand sem intent bing, bing -> brand sem intent google\n",
    "# 4) 'organic', 'google_organic','facebook_organic','discovery','other','internal','bing_organic','direct_mail','pinterest_organic','quora','appstore','playstore','tv','content_greatist','ott','vod'-> organic"
   ]
  },
  {
   "cell_type": "code",
   "execution_count": 79,
   "metadata": {},
   "outputs": [],
   "source": [
    "# Add CAC_i column to individuals\n",
    "\n",
    "channels = ['facebook', 'email', 'search', 'brand sem intent google',\n",
    "       'affiliate', 'email_blast', 'pinterest', 'referral']\n",
    "\n",
    "def find_CAC_i(row):\n",
    "    for i in list(range(0,9)):\n",
    "        for channel in channels:\n",
    "            if (row['tier']== i) & (row['attribution_technical'] == channel):\n",
    "                return CAC_by_tier_by_channel.iloc[i][channel]\n",
    "            if (row['tier']== i) & (row['attribution_technical'] in (['youtube','podcast','twitter'])):\n",
    "                return CAC_by_tier_by_channel.iloc[i]['facebook']           \n",
    "            if (row['tier']== i) & (row['attribution_technical'] in (['display','influencer','samsung','criteo'])):\n",
    "                return CAC_by_tier_by_channel.iloc[i]['affiliate']\n",
    "            if (row['tier']== i) & (row['attribution_technical'] in (['brand sem intent bing','bing'])):\n",
    "                return CAC_by_tier_by_channel.iloc[i]['brand sem intent google']"
   ]
  },
  {
   "cell_type": "code",
   "execution_count": 80,
   "metadata": {},
   "outputs": [],
   "source": [
    "data_merged['CAC_i']= data_merged.apply(lambda row: find_CAC_i(row), axis=1)"
   ]
  },
  {
   "cell_type": "code",
   "execution_count": 81,
   "metadata": {},
   "outputs": [],
   "source": [
    "# giving CAC as 0 to organic channels\n",
    "find = data_merged.attribution_technical.isin(['organic', 'google_organic','facebook_organic',\n",
    "                                              'discovery','other','internal','bing_organic',\n",
    "                                              'direct_mail','pinterest_organic','quora','appstore',\n",
    "                                              'playstore','tv','content_greatist','ott','vod'])\n",
    "data_merged.loc[find,'CAC_i'] = 0"
   ]
  },
  {
   "cell_type": "code",
   "execution_count": 82,
   "metadata": {},
   "outputs": [
    {
     "data": {
      "text/plain": [
       "Series([], Name: attribution_technical, dtype: int64)"
      ]
     },
     "execution_count": 82,
     "metadata": {},
     "output_type": "execute_result"
    }
   ],
   "source": [
    "# Check Null: Test OK\n",
    "data_merged[data_merged.CAC_i.isnull()].attribution_technical.value_counts()"
   ]
  },
  {
   "cell_type": "code",
   "execution_count": 83,
   "metadata": {},
   "outputs": [
    {
     "data": {
      "text/html": [
       "<div>\n",
       "<style scoped>\n",
       "    .dataframe tbody tr th:only-of-type {\n",
       "        vertical-align: middle;\n",
       "    }\n",
       "\n",
       "    .dataframe tbody tr th {\n",
       "        vertical-align: top;\n",
       "    }\n",
       "\n",
       "    .dataframe thead th {\n",
       "        text-align: right;\n",
       "    }\n",
       "</style>\n",
       "<table border=\"1\" class=\"dataframe\">\n",
       "  <thead>\n",
       "    <tr style=\"text-align: right;\">\n",
       "      <th></th>\n",
       "      <th>tier</th>\n",
       "      <th>attribution_technical</th>\n",
       "      <th>CAC_i</th>\n",
       "    </tr>\n",
       "  </thead>\n",
       "  <tbody>\n",
       "    <tr>\n",
       "      <th>0</th>\n",
       "      <td>5</td>\n",
       "      <td>organic</td>\n",
       "      <td>0.000000</td>\n",
       "    </tr>\n",
       "    <tr>\n",
       "      <th>1</th>\n",
       "      <td>7</td>\n",
       "      <td>bing</td>\n",
       "      <td>1.161304</td>\n",
       "    </tr>\n",
       "    <tr>\n",
       "      <th>2</th>\n",
       "      <td>8</td>\n",
       "      <td>email</td>\n",
       "      <td>1.964951</td>\n",
       "    </tr>\n",
       "    <tr>\n",
       "      <th>3</th>\n",
       "      <td>7</td>\n",
       "      <td>facebook</td>\n",
       "      <td>0.757825</td>\n",
       "    </tr>\n",
       "    <tr>\n",
       "      <th>4</th>\n",
       "      <td>5</td>\n",
       "      <td>search</td>\n",
       "      <td>0.909116</td>\n",
       "    </tr>\n",
       "    <tr>\n",
       "      <th>...</th>\n",
       "      <td>...</td>\n",
       "      <td>...</td>\n",
       "      <td>...</td>\n",
       "    </tr>\n",
       "    <tr>\n",
       "      <th>134987</th>\n",
       "      <td>6</td>\n",
       "      <td>facebook</td>\n",
       "      <td>1.413145</td>\n",
       "    </tr>\n",
       "    <tr>\n",
       "      <th>134988</th>\n",
       "      <td>8</td>\n",
       "      <td>affiliate</td>\n",
       "      <td>0.836310</td>\n",
       "    </tr>\n",
       "    <tr>\n",
       "      <th>134989</th>\n",
       "      <td>6</td>\n",
       "      <td>email</td>\n",
       "      <td>5.545145</td>\n",
       "    </tr>\n",
       "    <tr>\n",
       "      <th>134990</th>\n",
       "      <td>4</td>\n",
       "      <td>facebook</td>\n",
       "      <td>0.463674</td>\n",
       "    </tr>\n",
       "    <tr>\n",
       "      <th>134991</th>\n",
       "      <td>5</td>\n",
       "      <td>google_organic</td>\n",
       "      <td>0.000000</td>\n",
       "    </tr>\n",
       "  </tbody>\n",
       "</table>\n",
       "<p>134992 rows × 3 columns</p>\n",
       "</div>"
      ],
      "text/plain": [
       "        tier attribution_technical     CAC_i\n",
       "0          5               organic  0.000000\n",
       "1          7                  bing  1.161304\n",
       "2          8                 email  1.964951\n",
       "3          7              facebook  0.757825\n",
       "4          5                search  0.909116\n",
       "...      ...                   ...       ...\n",
       "134987     6              facebook  1.413145\n",
       "134988     8             affiliate  0.836310\n",
       "134989     6                 email  5.545145\n",
       "134990     4              facebook  0.463674\n",
       "134991     5        google_organic  0.000000\n",
       "\n",
       "[134992 rows x 3 columns]"
      ]
     },
     "execution_count": 83,
     "metadata": {},
     "output_type": "execute_result"
    }
   ],
   "source": [
    "# Check data integrity: Test OK\n",
    "data_merged[['tier','attribution_technical','CAC_i']]"
   ]
  },
  {
   "cell_type": "code",
   "execution_count": 84,
   "metadata": {},
   "outputs": [
    {
     "data": {
      "text/plain": [
       "plan_type              discount_price\n",
       "base_eur_14_day_trial  4.2205                10\n",
       "base_uae_14_day_trial  4.5141            134726\n",
       "high_aud_14_day_trial  3.7801                 2\n",
       "high_jpy_14_day_trial  4.4407                 1\n",
       "high_sar_14_day_trial  4.0737                10\n",
       "high_uae_14_day_trial  5.0279               242\n",
       "low_gbp_14_day_trial   4.3673                 1\n",
       "Name: discount_price, dtype: int64"
      ]
     },
     "execution_count": 84,
     "metadata": {},
     "output_type": "execute_result"
    }
   ],
   "source": [
    "data_merged.groupby('plan_type').discount_price.value_counts()"
   ]
  },
  {
   "cell_type": "code",
   "execution_count": 85,
   "metadata": {},
   "outputs": [
    {
     "data": {
      "text/plain": [
       "4.514954209130191"
      ]
     },
     "execution_count": 85,
     "metadata": {},
     "output_type": "execute_result"
    }
   ],
   "source": [
    "# calcualte payment_i as mean discount price\n",
    "payment_i = data_merged.discount_price.mean()\n",
    "payment_i"
   ]
  },
  {
   "cell_type": "code",
   "execution_count": 86,
   "metadata": {},
   "outputs": [],
   "source": [
    "# add probabilities of churn per customer\n",
    "data_merged['prob_churn'] = pd.read_csv('pred_mkt.csv')['prob']"
   ]
  },
  {
   "cell_type": "markdown",
   "metadata": {},
   "source": [
    "### Calculate CLV_i  "
   ]
  },
  {
   "cell_type": "code",
   "execution_count": 88,
   "metadata": {},
   "outputs": [],
   "source": [
    "def calculate_clv(row, payment_i, discount):\n",
    "    return (payment_i*(1+discount) / (1+discount-1+row.prob_churn))-row.CAC_i"
   ]
  },
  {
   "cell_type": "code",
   "execution_count": 110,
   "metadata": {},
   "outputs": [],
   "source": [
    "# calculate CLV with discount rate 10%\n",
    "data_merged['CLV_i'] = data_merged.apply(lambda row: calculate_clv(row,payment_i,0.10), axis=1)"
   ]
  },
  {
   "cell_type": "code",
   "execution_count": 111,
   "metadata": {},
   "outputs": [
    {
     "data": {
      "text/plain": [
       "4.664109370793693"
      ]
     },
     "execution_count": 111,
     "metadata": {},
     "output_type": "execute_result"
    }
   ],
   "source": [
    "# get mean CLV\n",
    "data_merged['CLV_i'].mean()"
   ]
  },
  {
   "cell_type": "code",
   "execution_count": 91,
   "metadata": {},
   "outputs": [
    {
     "data": {
      "text/plain": [
       "4.473212066235845"
      ]
     },
     "execution_count": 91,
     "metadata": {},
     "output_type": "execute_result"
    }
   ],
   "source": [
    "# get median CLV\n",
    "data_merged['CLV_i'].median()"
   ]
  },
  {
   "cell_type": "code",
   "execution_count": 92,
   "metadata": {},
   "outputs": [
    {
     "data": {
      "text/plain": [
       "-11.475567330141796"
      ]
     },
     "execution_count": 92,
     "metadata": {},
     "output_type": "execute_result"
    }
   ],
   "source": [
    "# get min CLV\n",
    "data_merged['CLV_i'].min()"
   ]
  },
  {
   "cell_type": "code",
   "execution_count": 93,
   "metadata": {},
   "outputs": [
    {
     "data": {
      "text/plain": [
       "37.95093358423804"
      ]
     },
     "execution_count": 93,
     "metadata": {},
     "output_type": "execute_result"
    }
   ],
   "source": [
    "# get max CLV\n",
    "data_merged['CLV_i'].max()"
   ]
  },
  {
   "cell_type": "markdown",
   "metadata": {},
   "source": [
    "## A Distribution of expected CLV"
   ]
  },
  {
   "cell_type": "code",
   "execution_count": 94,
   "metadata": {},
   "outputs": [
    {
     "data": {
      "image/png": "[encoded data removed]",
      "text/plain": [
       "<Figure size 576x396 with 1 Axes>"
      ]
     },
     "metadata": {},
     "output_type": "display_data"
    }
   ],
   "source": [
    "# Plot 1\n",
    "plt.hist(data_merged['CLV_i'],facecolor='skyblue',\n",
    "         edgecolor = 'gray', bins=50,\n",
    "        range=(-7.36,41))\n",
    "plt.show()"
   ]
  },
  {
   "cell_type": "code",
   "execution_count": 95,
   "metadata": {},
   "outputs": [
    {
     "data": {
      "text/plain": [
       "<matplotlib.axes._subplots.AxesSubplot at 0x21a06f8f888>"
      ]
     },
     "execution_count": 95,
     "metadata": {},
     "output_type": "execute_result"
    },
    {
     "data": {
      "image/png": "[encoded data removed]",
      "text/plain": [
       "<Figure size 576x396 with 1 Axes>"
      ]
     },
     "metadata": {},
     "output_type": "display_data"
    }
   ],
   "source": [
    "# Plot 2\n",
    "data_merged['CLV_i'].plot(kind='hist', bins=50, alpha=0.75)"
   ]
  },
  {
   "cell_type": "code",
   "execution_count": 96,
   "metadata": {},
   "outputs": [
    {
     "data": {
      "text/plain": [
       "Text(0, 0.5, 'Density')"
      ]
     },
     "execution_count": 96,
     "metadata": {},
     "output_type": "execute_result"
    },
    {
     "data": {
      "image/png": "[encoded data removed]",
      "text/plain": [
       "<Figure size 576x396 with 1 Axes>"
      ]
     },
     "metadata": {},
     "output_type": "display_data"
    }
   ],
   "source": [
    "# Plot 3\n",
    "import seaborn as sns\n",
    "sns.distplot(data_merged['CLV_i'], hist = True, kde = True, label='expected_CLV',kde_kws={\"color\": \"skyblue\", \"lw\": 3})\n",
    "\n",
    "# formatting\n",
    "plt.legend(prop={'size': 10})\n",
    "plt.title('A distribution of the CLV')\n",
    "plt.xlabel('CLV')\n",
    "plt.ylabel('Density')"
   ]
  },
  {
   "cell_type": "markdown",
   "metadata": {},
   "source": [
    "## Comparison of CLV between groups"
   ]
  },
  {
   "cell_type": "code",
   "execution_count": 97,
   "metadata": {
    "scrolled": true
   },
   "outputs": [
    {
     "data": {
      "text/plain": [
       "<seaborn.axisgrid.FacetGrid at 0x21a08141608>"
      ]
     },
     "execution_count": 97,
     "metadata": {},
     "output_type": "execute_result"
    },
    {
     "data": {
      "image/png": "[encoded data removed]",
      "text/plain": [
       "<Figure size 348.625x288 with 1 Axes>"
      ]
     },
     "metadata": {},
     "output_type": "display_data"
    }
   ],
   "source": [
    "# Gender: no significant difference\n",
    "sns.FacetGrid(data_merged, hue='male_TF',height=4).map(sns.distplot,\"CLV_i\").add_legend()"
   ]
  },
  {
   "cell_type": "code",
   "execution_count": 98,
   "metadata": {},
   "outputs": [
    {
     "data": {
      "text/plain": [
       "<seaborn.axisgrid.FacetGrid at 0x21a11627908>"
      ]
     },
     "execution_count": 98,
     "metadata": {},
     "output_type": "execute_result"
    },
    {
     "data": {
      "image/png": "[encoded data removed]",
      "text/plain": [
       "<Figure size 329.625x288 with 1 Axes>"
      ]
     },
     "metadata": {},
     "output_type": "display_data"
    }
   ],
   "source": [
    "# shows different distribution\n",
    "sns.FacetGrid(data_merged, hue='churn',height=4).map(sns.distplot,\"CLV_i\").add_legend()"
   ]
  },
  {
   "cell_type": "code",
   "execution_count": 99,
   "metadata": {},
   "outputs": [
    {
     "data": {
      "text/plain": [
       "array([[<matplotlib.axes._subplots.AxesSubplot object at 0x0000021A08DD8108>,\n",
       "        <matplotlib.axes._subplots.AxesSubplot object at 0x0000021A08E0A4C8>,\n",
       "        <matplotlib.axes._subplots.AxesSubplot object at 0x0000021A094AFCC8>],\n",
       "       [<matplotlib.axes._subplots.AxesSubplot object at 0x0000021A094EAB88>,\n",
       "        <matplotlib.axes._subplots.AxesSubplot object at 0x0000021A09524A08>,\n",
       "        <matplotlib.axes._subplots.AxesSubplot object at 0x0000021A09BDC808>],\n",
       "       [<matplotlib.axes._subplots.AxesSubplot object at 0x0000021A09C166C8>,\n",
       "        <matplotlib.axes._subplots.AxesSubplot object at 0x0000021A09C4E408>,\n",
       "        <matplotlib.axes._subplots.AxesSubplot object at 0x0000021A09C4E608>]],\n",
       "      dtype=object)"
      ]
     },
     "execution_count": 99,
     "metadata": {},
     "output_type": "execute_result"
    },
    {
     "data": {
      "image/png": "[encoded data removed]",
      "text/plain": [
       "<Figure size 576x396 with 9 Axes>"
      ]
     },
     "metadata": {},
     "output_type": "display_data"
    }
   ],
   "source": [
    "# intended use: exclusive, supplement OTT, replace OTT shows higher CLV\n",
    "data_merged.hist(by='intended_use', column='CLV_i', bins=50, density=True, alpha=0.75)"
   ]
  },
  {
   "cell_type": "code",
   "execution_count": 101,
   "metadata": {},
   "outputs": [
    {
     "data": {
      "text/plain": [
       "array([[<matplotlib.axes._subplots.AxesSubplot object at 0x0000021A08DD0608>,\n",
       "        <matplotlib.axes._subplots.AxesSubplot object at 0x0000021A0FAE54C8>,\n",
       "        <matplotlib.axes._subplots.AxesSubplot object at 0x0000021A0FB11C48>],\n",
       "       [<matplotlib.axes._subplots.AxesSubplot object at 0x0000021A0FB4C408>,\n",
       "        <matplotlib.axes._subplots.AxesSubplot object at 0x0000021A101F0BC8>,\n",
       "        <matplotlib.axes._subplots.AxesSubplot object at 0x0000021A1022BA88>],\n",
       "       [<matplotlib.axes._subplots.AxesSubplot object at 0x0000021A10264888>,\n",
       "        <matplotlib.axes._subplots.AxesSubplot object at 0x0000021A1029E5C8>,\n",
       "        <matplotlib.axes._subplots.AxesSubplot object at 0x0000021A1029E7C8>]],\n",
       "      dtype=object)"
      ]
     },
     "execution_count": 101,
     "metadata": {},
     "output_type": "execute_result"
    },
    {
     "data": {
      "image/png": "[encoded data removed]",
      "text/plain": [
       "<Figure size 576x396 with 9 Axes>"
      ]
     },
     "metadata": {},
     "output_type": "display_data"
    }
   ],
   "source": [
    "# Tier\n",
    "data_merged.hist(by='tier', column='CLV_i', bins=50, density=True, alpha=0.75)"
   ]
  },
  {
   "cell_type": "code",
   "execution_count": 100,
   "metadata": {},
   "outputs": [
    {
     "data": {
      "text/plain": [
       "array([<matplotlib.axes._subplots.AxesSubplot object at 0x0000021A0D5A9B08>,\n",
       "       <matplotlib.axes._subplots.AxesSubplot object at 0x0000021A0EAA0308>],\n",
       "      dtype=object)"
      ]
     },
     "execution_count": 100,
     "metadata": {},
     "output_type": "execute_result"
    },
    {
     "data": {
      "image/png": "[encoded data removed]",
      "text/plain": [
       "<Figure size 576x396 with 2 Axes>"
      ]
     },
     "metadata": {},
     "output_type": "display_data"
    }
   ],
   "source": [
    "# no sig diff\n",
    "data_merged.hist(by='op_sys', column='CLV_i', bins=50, density=True, alpha=0.75)"
   ]
  },
  {
   "cell_type": "code",
   "execution_count": 103,
   "metadata": {},
   "outputs": [
    {
     "data": {
      "image/png": "[encoded data removed]",
      "text/plain": [
       "<Figure size 576x396 with 1 Axes>"
      ]
     },
     "metadata": {},
     "output_type": "display_data"
    }
   ],
   "source": [
    "churn_rates=[]\n",
    "\n",
    "for channel in channels:\n",
    "    churn_rate = data_merged.groupby('attribution_technical').churn.sum()[channel] / data_merged.attribution_technical.value_counts()[channel]\n",
    "    churn_rates.append(churn_rate)\n",
    "churn_rates = pd.DataFrame(churn_rates, index=channels, columns=['churn_rate'])\n",
    "churn_rates.plot(kind='bar',alpha=.85)\n",
    "plt.show()"
   ]
  },
  {
   "cell_type": "markdown",
   "metadata": {},
   "source": [
    "## Compare churn rates across channels"
   ]
  },
  {
   "cell_type": "code",
   "execution_count": 106,
   "metadata": {
    "scrolled": true
   },
   "outputs": [
    {
     "data": {
      "text/plain": [
       "(array([0, 1, 2, 3, 4, 5, 6, 7]), <a list of 8 Text major ticklabel objects>)"
      ]
     },
     "execution_count": 106,
     "metadata": {},
     "output_type": "execute_result"
    },
    {
     "data": {
      "image/png": "[encoded data removed]",
      "text/plain": [
       "<Figure size 576x396 with 1 Axes>"
      ]
     },
     "metadata": {},
     "output_type": "display_data"
    }
   ],
   "source": [
    "# plotting in order\n",
    "sns.barplot(x=churn_rates.index,\n",
    "            y=\"churn_rate\", data=churn_rates,\n",
    "            order=churn_rates.sort_values('churn_rate').index)\n",
    "plt.xticks(rotation='vertical') "
   ]
  },
  {
   "cell_type": "code",
   "execution_count": 107,
   "metadata": {},
   "outputs": [
    {
     "data": {
      "text/html": [
       "<div>\n",
       "<style scoped>\n",
       "    .dataframe tbody tr th:only-of-type {\n",
       "        vertical-align: middle;\n",
       "    }\n",
       "\n",
       "    .dataframe tbody tr th {\n",
       "        vertical-align: top;\n",
       "    }\n",
       "\n",
       "    .dataframe thead th {\n",
       "        text-align: right;\n",
       "    }\n",
       "</style>\n",
       "<table border=\"1\" class=\"dataframe\">\n",
       "  <thead>\n",
       "    <tr style=\"text-align: right;\">\n",
       "      <th></th>\n",
       "      <th>churn_rate</th>\n",
       "    </tr>\n",
       "  </thead>\n",
       "  <tbody>\n",
       "    <tr>\n",
       "      <th>referral</th>\n",
       "      <td>0.434871</td>\n",
       "    </tr>\n",
       "    <tr>\n",
       "      <th>email_blast</th>\n",
       "      <td>0.475167</td>\n",
       "    </tr>\n",
       "    <tr>\n",
       "      <th>brand sem intent google</th>\n",
       "      <td>0.562999</td>\n",
       "    </tr>\n",
       "    <tr>\n",
       "      <th>email</th>\n",
       "      <td>0.576949</td>\n",
       "    </tr>\n",
       "    <tr>\n",
       "      <th>affiliate</th>\n",
       "      <td>0.600360</td>\n",
       "    </tr>\n",
       "    <tr>\n",
       "      <th>facebook</th>\n",
       "      <td>0.651885</td>\n",
       "    </tr>\n",
       "    <tr>\n",
       "      <th>search</th>\n",
       "      <td>0.654565</td>\n",
       "    </tr>\n",
       "    <tr>\n",
       "      <th>pinterest</th>\n",
       "      <td>0.670926</td>\n",
       "    </tr>\n",
       "  </tbody>\n",
       "</table>\n",
       "</div>"
      ],
      "text/plain": [
       "                         churn_rate\n",
       "referral                   0.434871\n",
       "email_blast                0.475167\n",
       "brand sem intent google    0.562999\n",
       "email                      0.576949\n",
       "affiliate                  0.600360\n",
       "facebook                   0.651885\n",
       "search                     0.654565\n",
       "pinterest                  0.670926"
      ]
     },
     "execution_count": 107,
     "metadata": {},
     "output_type": "execute_result"
    }
   ],
   "source": [
    "# Churn rate table by channel\n",
    "churn_rates.sort_values('churn_rate')"
   ]
  },
  {
   "cell_type": "markdown",
   "metadata": {},
   "source": [
    "## Compare churn rates between two groups"
   ]
  },
  {
   "cell_type": "code",
   "execution_count": 108,
   "metadata": {},
   "outputs": [
    {
     "name": "stdout",
     "output_type": "stream",
     "text": [
      "0.5639525500322788\n"
     ]
    }
   ],
   "source": [
    "# Group 1 = 'email', 'affiliate', 'email_blast'\n",
    "\n",
    "channels = ['email', 'affiliate', 'email_blast']\n",
    "numerator_sum=0\n",
    "denominator_sum = 0\n",
    "\n",
    "for channel in channels:\n",
    "    nume = data_merged.groupby('attribution_technical').churn.sum()[channel]\n",
    "    deno = data_merged.attribution_technical.value_counts()[channel]\n",
    "    numerator_sum = numerator_sum + nume\n",
    "    denominator_sum = denominator_sum + deno\n",
    "\n",
    "print(numerator_sum/denominator_sum)"
   ]
  },
  {
   "cell_type": "code",
   "execution_count": 109,
   "metadata": {},
   "outputs": [
    {
     "name": "stdout",
     "output_type": "stream",
     "text": [
      "0.6319257113732705\n"
     ]
    }
   ],
   "source": [
    "# Group 2 = 'facebook',  'search', 'brand sem intent google', 'pinterest', 'referral'\n",
    "\n",
    "channels = ['facebook',  'search', 'brand sem intent google',\n",
    "        'pinterest', 'referral']\n",
    "\n",
    "numerator_sum=0\n",
    "denominator_sum = 0\n",
    "\n",
    "for channel in channels:\n",
    "    nume = data_merged.groupby('attribution_technical').churn.sum()[channel]\n",
    "    deno = data_merged.attribution_technical.value_counts()[channel]\n",
    "    numerator_sum = numerator_sum + nume\n",
    "    denominator_sum = denominator_sum + deno\n",
    "\n",
    "print(numerator_sum/denominator_sum)"
   ]
  }
 ],
 "metadata": {
  "kernelspec": {
   "display_name": "local-venv",
   "language": "python",
   "name": "local-venv"
  },
  "language_info": {
   "codemirror_mode": {
    "name": "ipython",
    "version": 3
   },
   "file_extension": ".py",
   "mimetype": "text/x-python",
   "name": "python",
   "nbconvert_exporter": "python",
   "pygments_lexer": "ipython3",
   "version": "3.7.6"
  }
 },
 "nbformat": 4,
 "nbformat_minor": 4
}
